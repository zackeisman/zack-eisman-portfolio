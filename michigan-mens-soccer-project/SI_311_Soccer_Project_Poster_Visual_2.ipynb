{
 "cells": [
  {
   "cell_type": "code",
   "execution_count": 1,
   "id": "81bd122e",
   "metadata": {},
   "outputs": [],
   "source": [
    "import pandas as pd\n",
    "import seaborn as sns"
   ]
  },
  {
   "cell_type": "code",
   "execution_count": 2,
   "id": "4c2a005e",
   "metadata": {},
   "outputs": [],
   "source": [
    "df = pd.read_csv('match_report_data.csv')\n",
    "#df"
   ]
  },
  {
   "cell_type": "code",
   "execution_count": 3,
   "id": "79e9cd83",
   "metadata": {},
   "outputs": [
    {
     "data": {
      "text/html": [
       "<div>\n",
       "<style scoped>\n",
       "    .dataframe tbody tr th:only-of-type {\n",
       "        vertical-align: middle;\n",
       "    }\n",
       "\n",
       "    .dataframe tbody tr th {\n",
       "        vertical-align: top;\n",
       "    }\n",
       "\n",
       "    .dataframe thead th {\n",
       "        text-align: right;\n",
       "    }\n",
       "</style>\n",
       "<table border=\"1\" class=\"dataframe\">\n",
       "  <thead>\n",
       "    <tr style=\"text-align: right;\">\n",
       "      <th></th>\n",
       "      <th>Game Result</th>\n",
       "      <th>Game Number</th>\n",
       "      <th>GO_Hit</th>\n",
       "      <th>GO_Miss</th>\n",
       "      <th>S_Hit</th>\n",
       "      <th>S_Miss</th>\n",
       "      <th>W_Hit</th>\n",
       "      <th>W_Miss</th>\n",
       "    </tr>\n",
       "  </thead>\n",
       "  <tbody>\n",
       "    <tr>\n",
       "      <th>0</th>\n",
       "      <td>Loss</td>\n",
       "      <td>61</td>\n",
       "      <td>17.0</td>\n",
       "      <td>11.0</td>\n",
       "      <td>7.0</td>\n",
       "      <td>11.0</td>\n",
       "      <td>4.5</td>\n",
       "      <td>8.5</td>\n",
       "    </tr>\n",
       "    <tr>\n",
       "      <th>1</th>\n",
       "      <td>Tie</td>\n",
       "      <td>48</td>\n",
       "      <td>13.0</td>\n",
       "      <td>7.0</td>\n",
       "      <td>6.0</td>\n",
       "      <td>9.0</td>\n",
       "      <td>9.5</td>\n",
       "      <td>4.5</td>\n",
       "    </tr>\n",
       "    <tr>\n",
       "      <th>2</th>\n",
       "      <td>Win</td>\n",
       "      <td>39</td>\n",
       "      <td>7.5</td>\n",
       "      <td>1.5</td>\n",
       "      <td>4.0</td>\n",
       "      <td>5.0</td>\n",
       "      <td>9.0</td>\n",
       "      <td>2.0</td>\n",
       "    </tr>\n",
       "  </tbody>\n",
       "</table>\n",
       "</div>"
      ],
      "text/plain": [
       "  Game Result  Game Number  GO_Hit  GO_Miss  S_Hit  S_Miss  W_Hit  W_Miss\n",
       "0        Loss           61    17.0     11.0    7.0    11.0    4.5     8.5\n",
       "1         Tie           48    13.0      7.0    6.0     9.0    9.5     4.5\n",
       "2         Win           39     7.5      1.5    4.0     5.0    9.0     2.0"
      ]
     },
     "execution_count": 3,
     "metadata": {},
     "output_type": "execute_result"
    }
   ],
   "source": [
    "grouped = df.groupby(\"Game Result\").sum()\n",
    "grouped.reset_index(inplace = True)\n",
    "grouped"
   ]
  },
  {
   "cell_type": "code",
   "execution_count": 4,
   "id": "4ba98c80",
   "metadata": {},
   "outputs": [],
   "source": [
    "final_list = []"
   ]
  },
  {
   "cell_type": "code",
   "execution_count": 5,
   "id": "51deb611",
   "metadata": {},
   "outputs": [],
   "source": [
    "for i in range(len(grouped)):\n",
    "    game_result = grouped.loc[i, 'Game Result']\n",
    "    go_hit = grouped.loc[i, 'GO_Hit']\n",
    "    go_miss = grouped.loc[i, 'GO_Miss']\n",
    "    go_rate = round((go_hit / (go_hit + go_miss)) * 100, 0)\n",
    "    s_hit = grouped.loc[i, 'S_Hit']\n",
    "    s_miss = grouped.loc[i, 'S_Miss']\n",
    "    s_rate = round((s_hit / (s_hit + s_miss)) * 100, 0)\n",
    "    w_hit = grouped.loc[i, 'W_Hit']\n",
    "    w_miss = grouped.loc[i, 'W_Miss']\n",
    "    w_rate = round((w_hit / (w_hit + w_miss)) * 100, 0)\n",
    "    final_list.append([game_result, 'General Observation Continuation Rate', go_rate])\n",
    "    final_list.append([game_result, 'Strength Nullification Rate', s_rate])\n",
    "    final_list.append([game_result, 'Weakness Exploitation Rate', w_rate])"
   ]
  },
  {
   "cell_type": "code",
   "execution_count": 6,
   "id": "2a1cb162",
   "metadata": {},
   "outputs": [
    {
     "data": {
      "text/plain": [
       "[['Loss', 'General Observation Continuation Rate', 61.0],\n",
       " ['Loss', 'Strength Nullification Rate', 39.0],\n",
       " ['Loss', 'Weakness Exploitation Rate', 35.0],\n",
       " ['Tie', 'General Observation Continuation Rate', 65.0],\n",
       " ['Tie', 'Strength Nullification Rate', 40.0],\n",
       " ['Tie', 'Weakness Exploitation Rate', 68.0],\n",
       " ['Win', 'General Observation Continuation Rate', 83.0],\n",
       " ['Win', 'Strength Nullification Rate', 44.0],\n",
       " ['Win', 'Weakness Exploitation Rate', 82.0]]"
      ]
     },
     "execution_count": 6,
     "metadata": {},
     "output_type": "execute_result"
    }
   ],
   "source": [
    "final_list"
   ]
  },
  {
   "cell_type": "code",
   "execution_count": 7,
   "id": "078a7949",
   "metadata": {},
   "outputs": [
    {
     "data": {
      "text/html": [
       "<div>\n",
       "<style scoped>\n",
       "    .dataframe tbody tr th:only-of-type {\n",
       "        vertical-align: middle;\n",
       "    }\n",
       "\n",
       "    .dataframe tbody tr th {\n",
       "        vertical-align: top;\n",
       "    }\n",
       "\n",
       "    .dataframe thead th {\n",
       "        text-align: right;\n",
       "    }\n",
       "</style>\n",
       "<table border=\"1\" class=\"dataframe\">\n",
       "  <thead>\n",
       "    <tr style=\"text-align: right;\">\n",
       "      <th></th>\n",
       "      <th>Game Result</th>\n",
       "      <th>Rate Type</th>\n",
       "      <th>Rate</th>\n",
       "    </tr>\n",
       "  </thead>\n",
       "  <tbody>\n",
       "    <tr>\n",
       "      <th>0</th>\n",
       "      <td>Loss</td>\n",
       "      <td>General Observation Continuation Rate</td>\n",
       "      <td>61.0</td>\n",
       "    </tr>\n",
       "    <tr>\n",
       "      <th>1</th>\n",
       "      <td>Loss</td>\n",
       "      <td>Strength Nullification Rate</td>\n",
       "      <td>39.0</td>\n",
       "    </tr>\n",
       "    <tr>\n",
       "      <th>2</th>\n",
       "      <td>Loss</td>\n",
       "      <td>Weakness Exploitation Rate</td>\n",
       "      <td>35.0</td>\n",
       "    </tr>\n",
       "    <tr>\n",
       "      <th>3</th>\n",
       "      <td>Tie</td>\n",
       "      <td>General Observation Continuation Rate</td>\n",
       "      <td>65.0</td>\n",
       "    </tr>\n",
       "    <tr>\n",
       "      <th>4</th>\n",
       "      <td>Tie</td>\n",
       "      <td>Strength Nullification Rate</td>\n",
       "      <td>40.0</td>\n",
       "    </tr>\n",
       "    <tr>\n",
       "      <th>5</th>\n",
       "      <td>Tie</td>\n",
       "      <td>Weakness Exploitation Rate</td>\n",
       "      <td>68.0</td>\n",
       "    </tr>\n",
       "    <tr>\n",
       "      <th>6</th>\n",
       "      <td>Win</td>\n",
       "      <td>General Observation Continuation Rate</td>\n",
       "      <td>83.0</td>\n",
       "    </tr>\n",
       "    <tr>\n",
       "      <th>7</th>\n",
       "      <td>Win</td>\n",
       "      <td>Strength Nullification Rate</td>\n",
       "      <td>44.0</td>\n",
       "    </tr>\n",
       "    <tr>\n",
       "      <th>8</th>\n",
       "      <td>Win</td>\n",
       "      <td>Weakness Exploitation Rate</td>\n",
       "      <td>82.0</td>\n",
       "    </tr>\n",
       "  </tbody>\n",
       "</table>\n",
       "</div>"
      ],
      "text/plain": [
       "  Game Result                              Rate Type  Rate\n",
       "0        Loss  General Observation Continuation Rate  61.0\n",
       "1        Loss            Strength Nullification Rate  39.0\n",
       "2        Loss             Weakness Exploitation Rate  35.0\n",
       "3         Tie  General Observation Continuation Rate  65.0\n",
       "4         Tie            Strength Nullification Rate  40.0\n",
       "5         Tie             Weakness Exploitation Rate  68.0\n",
       "6         Win  General Observation Continuation Rate  83.0\n",
       "7         Win            Strength Nullification Rate  44.0\n",
       "8         Win             Weakness Exploitation Rate  82.0"
      ]
     },
     "execution_count": 7,
     "metadata": {},
     "output_type": "execute_result"
    }
   ],
   "source": [
    "final_df = pd.DataFrame(final_list, columns = ['Game Result', 'Rate Type', 'Rate'])\n",
    "final_df"
   ]
  },
  {
   "cell_type": "code",
   "execution_count": 8,
   "id": "aa5b1ad4",
   "metadata": {},
   "outputs": [
    {
     "data": {
      "text/plain": [
       "<seaborn.axisgrid.FacetGrid at 0x234fdf5e100>"
      ]
     },
     "execution_count": 8,
     "metadata": {},
     "output_type": "execute_result"
    },
    {
     "data": {
      "image/png": "[encoded data removed]",
      "text/plain": [
       "<Figure size 592.25x360 with 1 Axes>"
      ]
     },
     "metadata": {
      "needs_background": "light"
     },
     "output_type": "display_data"
    }
   ],
   "source": [
    "sns.catplot(data=final_df, kind=\"bar\",\n",
    "    x=\"Game Result\", y=\"Rate\", hue=\"Rate Type\").set(\n",
    "    title = 'General Observation Continuation, Strength Nullification, and Weakness Exploitation Rates by Game Result')"
   ]
  },
  {
   "cell_type": "code",
   "execution_count": null,
   "id": "2b29d46f",
   "metadata": {},
   "outputs": [],
   "source": []
  }
 ],
 "metadata": {
  "kernelspec": {
   "display_name": "Python 3 (ipykernel)",
   "language": "python",
   "name": "python3"
  },
  "language_info": {
   "codemirror_mode": {
    "name": "ipython",
    "version": 3
   },
   "file_extension": ".py",
   "mimetype": "text/x-python",
   "name": "python",
   "nbconvert_exporter": "python",
   "pygments_lexer": "ipython3",
   "version": "3.9.7"
  }
 },
 "nbformat": 4,
 "nbformat_minor": 5
}
