{
 "cells": [
  {
   "cell_type": "markdown",
   "id": "04d57ae9",
   "metadata": {},
   "source": [
    "## SQL Demo Code"
   ]
  },
  {
   "cell_type": "markdown",
   "id": "0f84a165",
   "metadata": {},
   "source": [
    "### Imports\n",
    "For this demo, we added one import that helps us connect to sql"
   ]
  },
  {
   "cell_type": "code",
   "execution_count": 1,
   "id": "06cbbd6a",
   "metadata": {},
   "outputs": [],
   "source": [
    "import requests\n",
    "from bs4 import BeautifulSoup\n",
    "import mysql.connector"
   ]
  },
  {
   "cell_type": "markdown",
   "id": "f7eec06a",
   "metadata": {},
   "source": [
    "### BeautifulSoup Code and SQL Connections\n",
    "To connect to SQL, we can create variables called cnx and cursor as shown below.\n",
    "\n",
    "To execute and copy our data (found using BeautifulSoup) to our SQL table, we need the last 3 lines of code below our previous work. When creating the statement line, you need one instance of %s in the VALUES for each column of data."
   ]
  },
  {
   "cell_type": "code",
   "execution_count": 3,
   "id": "7675efe4",
   "metadata": {},
   "outputs": [],
   "source": [
    "cnx = mysql.connector.connect(user = 'wsa',\n",
    "                             host = '34.68.250.121',\n",
    "                             database = 'Tutorials-Winter2024',\n",
    "                             password = 'LeBron>MJ!')\n",
    "cursor = cnx.cursor(buffered = True)\n",
    "\n",
    "years = ['2011', '2012', '2013', '2014', '2015', '2016', '2017', '2018', '2019', '2020', '2021', '2022', '2023']\n",
    "for year in years:\n",
    "    url = requests.get(f\"https://www.sports-reference.com/cfb/schools/michigan/{year}/gamelog/\")\n",
    "    soup = BeautifulSoup(url.text, 'html.parser')\n",
    "    #print(soup.prettify())\n",
    "    \n",
    "    table = soup.find(\"div\", attrs = {'id': 'div_offense'}).find(\"table\")\n",
    "    #print(rosterTable)\n",
    "    \n",
    "    tableRows = table.find('tbody').find_all(\"tr\")\n",
    "    #print(tableRows)\n",
    "\n",
    "    for row in tableRows:\n",
    "        #print(row)\n",
    "        #print(\"----------------\")\n",
    "        \n",
    "        columns = row.find_all(\"td\")\n",
    "        \n",
    "        date = columns[0].find('a').text\n",
    "        year = int(date.split('-')[0])\n",
    "        \n",
    "        home_away_section = columns[1].text\n",
    "        if home_away_section == '':\n",
    "            home_away = 'Home'\n",
    "        elif home_away_section == '@':\n",
    "            home_away = 'Away'\n",
    "        else:\n",
    "            home_away = 'Nuetral'\n",
    "        \n",
    "        opponent = columns[2].find('a').text\n",
    "        \n",
    "        result_list = columns[3].text.split(' ')\n",
    "        result = result_list[0]\n",
    "        points_scored = int(result_list[1].split('-')[0][1:])\n",
    "        points_against = int(result_list[1].split('-')[1][:-1])\n",
    "        \n",
    "        pass_cmp = int(columns[4].text)\n",
    "        pass_att = int(columns[5].text)\n",
    "        pass_pct = float(columns[6].text)\n",
    "        pass_yrds = int(columns[7].text)\n",
    "        pass_td = int(columns[8].text)\n",
    "        pass_1st_down = int(columns[16].text)\n",
    "        \n",
    "        rush_att = int(columns[9].text)\n",
    "        rush_yrds = int(columns[10].text)\n",
    "        rush_td = int(columns[12].text)\n",
    "        rush_1st_down = int(columns[17].text)\n",
    "        \n",
    "        total_offense = int(columns[14].text)\n",
    "        fumbles = int(columns[22].text)\n",
    "        ints = int(columns[23].text)\n",
    "        \n",
    "        #values = [date, year, opponent, home_away, result, points_scored, points_against, pass_cmp, pass_att, pass_pct,\n",
    "                 #pass_yrds, pass_td, pass_1st_down, rush_att, rush_yrds, rush_td, rush_1st_down, total_offense, fumbles, ints]\n",
    "        #print(values)\n",
    "        values = [date, year, opponent, home_away, result, points_scored, points_against]\n",
    "        \n",
    "        #statement = \"INSERT INTO Michigan_GameLogs_zack_eisman (date, year, opponent, home_away, result, points_scored, points_against, pass_cmp, pass_att, pass_pct, pass_yrds, pass_td, pass_1st_down, rush_att, rush_yrds, rush_td, rush_1st_down, total_offense, fumbles, ints) VALUES (%s, %s, %s, %s, %s, %s, %s, %s, %s, %s, %s, %s, %s, %s, %s, %s, %s, %s, %s, %s)\"\n",
    "        statement = \"INSERT INTO W24_test_table (date, year, opponent, home_away, result, points_scored, points_against) VALUES (%s, %s, %s, %s, %s, %s, %s)\"\n",
    "        \n",
    "        \n",
    "        # last 2 lines are commented out so we don't inadvertenly add all our data to SQL twice and create duplicate rows\n",
    "        cursor.execute(statement, values)\n",
    "        cnx.commit()"
   ]
  },
  {
   "cell_type": "markdown",
   "id": "17a405d1",
   "metadata": {},
   "source": [
    "### Create a SQL Table\n",
    "Once you write that code, go into mySQL or SequelAce and create the table in the correct schema.\n",
    "\n",
    "Then, come back and run your code to add it to your SQL table."
   ]
  },
  {
   "cell_type": "markdown",
   "id": "9992669d",
   "metadata": {},
   "source": [
    "### Running SQL Commands\n",
    "\n",
    "1. SELECT * FROM 'Tutorials-Winter2024'.Michigan_GameLogs_zack_eisman;\n",
    "* used to select all of our rows from the table\n",
    "\n",
    "2. SELECT opponent, result FROM 'Tutorials-Winter2024'.Michigan_GameLogs_zack_eisman;\n",
    "* used to select only certain columns from the table\n",
    "\n",
    "3. SELECT opponent, result, points_scored FROM 'Tutorials-Winter2024'.Michigan_GameLogs_zack_eisman WHERE points_scored >= 35;\n",
    "* used to select only certain columns from the table when a certain condition is met\n",
    "\n",
    "4. SELECT * FROM 'Tutorials-Winter2024'.Michigan_GameLogs_zack_eisman ORDER BY pass_yrds DESC;\n",
    "* used to order our table by one of the columns\n",
    "\n",
    "5. INSERT INTO 'Tutorials-Winter2024'.Michigan_GameLogs_zack_eisman (year, opponent, result, points_scored, points_against) VALUES (2024, 'Ohio State', 'W', 42, 0);\n",
    "* used to insert a new row into the bottom of our table\n",
    "* if you run example 1 again, the new game will be visible at the bottom\n",
    "\n",
    "6. UPDATE 'Tutorials-Winter2024'.Michigan_GameLogs_zack_eisman SET points_scored = 56 WHERE id = [insert correct id]\n",
    "* used to update a row in the table using its id\n",
    "\n",
    "7. DELETE FROM 'Tutorials-Winter2024'.Michigan_GameLogs_zack_eisman WHERE id = [insert correct id];\n",
    "* used to delete a row from the table using its id"
   ]
  },
  {
   "cell_type": "code",
   "execution_count": null,
   "id": "03dd7b66",
   "metadata": {},
   "outputs": [],
   "source": []
  }
 ],
 "metadata": {
  "kernelspec": {
   "display_name": "Python 3 (ipykernel)",
   "language": "python",
   "name": "python3"
  },
  "language_info": {
   "codemirror_mode": {
    "name": "ipython",
    "version": 3
   },
   "file_extension": ".py",
   "mimetype": "text/x-python",
   "name": "python",
   "nbconvert_exporter": "python",
   "pygments_lexer": "ipython3",
   "version": "3.9.7"
  }
 },
 "nbformat": 4,
 "nbformat_minor": 5
}
