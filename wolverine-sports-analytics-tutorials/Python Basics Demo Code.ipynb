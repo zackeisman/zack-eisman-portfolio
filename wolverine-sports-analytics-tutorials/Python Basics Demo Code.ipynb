{
 "cells": [
  {
   "cell_type": "markdown",
   "id": "60463208",
   "metadata": {},
   "source": [
    "## WSA Python Basics Demo Code"
   ]
  },
  {
   "cell_type": "markdown",
   "id": "8accc3f7",
   "metadata": {},
   "source": [
    "### Introduction\n",
    "* This tutorial is going to cover some Python basics. For those of you who have never coded before in any language, please watch the supplemental video located in the 'Supplemental Materials' module in Google Classroom.\n",
    "\n",
    "* For those of you who have worked in Python or even another programming language before, this should all be basic review.\n",
    "\n",
    "* We don't expect any experience for WSA so we're going to start from the very bottom and work our way up"
   ]
  },
  {
   "cell_type": "markdown",
   "id": "0f3e5b9a",
   "metadata": {},
   "source": [
    "### Print Statement\n",
    "Used to print anything we want in the output of our programming cell\n",
    "\n",
    "Note: Shift enter will run your code"
   ]
  },
  {
   "cell_type": "code",
   "execution_count": 1,
   "id": "dc7c5218",
   "metadata": {
    "scrolled": true
   },
   "outputs": [
    {
     "name": "stdout",
     "output_type": "stream",
     "text": [
      "Welcome to WSA!\n",
      "Hi!\n"
     ]
    }
   ],
   "source": [
    "print('Welcome to WSA!')\n",
    "print('Hi!')"
   ]
  },
  {
   "cell_type": "markdown",
   "id": "00ec2c08",
   "metadata": {},
   "source": [
    "### Basic Math\n",
    "Following cell includes addition, subtraction, multiplication, division, integer division, and remainder (modulo) division\n",
    "\n",
    "Integer division rounds down the nearest integer. Remainder division prints the remainder."
   ]
  },
  {
   "cell_type": "code",
   "execution_count": 2,
   "id": "c34af7c4",
   "metadata": {},
   "outputs": [
    {
     "name": "stdout",
     "output_type": "stream",
     "text": [
      "15\n",
      "5\n",
      "50\n",
      "2.0\n",
      "2\n",
      "1\n"
     ]
    }
   ],
   "source": [
    "print(10 + 5)\n",
    "print(10 - 5)\n",
    "print(10 * 5)\n",
    "print(10 / 5)\n",
    "print(11 // 5)\n",
    "print(11 % 5)"
   ]
  },
  {
   "cell_type": "markdown",
   "id": "5eea1527",
   "metadata": {},
   "source": [
    "### Creating Objects and Types of Objects\n",
    "Strings are anything inside quoation marks and are often words or sentences but can be anything including numbers\n",
    "\n",
    "Integers are whole numbers, floats are numbers with decimals\n",
    "\n",
    "Lists are series of objects stored into one object. Can store different types of objects into one list. Lists can be changed. Identified by brackets []\n",
    "\n",
    "Tuples are just like lists except they are identified by parenthesis () and cannot be changed.\n",
    "\n",
    "Dictionaries are used to store data in key : value pairs. Identified by curly brackets {}."
   ]
  },
  {
   "cell_type": "code",
   "execution_count": 7,
   "id": "c3e065fc",
   "metadata": {},
   "outputs": [
    {
     "name": "stdout",
     "output_type": "stream",
     "text": [
      "anything inside the quotation marks\n",
      "5\n",
      "[1, 2, 3]\n",
      "('hello', 'world', 4)\n",
      "{'city': 'Detroit', 'team name': 'Red Wings', 'colors': ['red', 'white']}\n"
     ]
    }
   ],
   "source": [
    "my_string = \"anything inside the quotation marks\"\n",
    "print(my_string)\n",
    "\n",
    "x = 5\n",
    "print(x)\n",
    "\n",
    "list1 = [1, 2, 3]\n",
    "print(list1)\n",
    "\n",
    "tuple1 = ('hello', 'world', 4)\n",
    "print(tuple1)\n",
    "\n",
    "dictionary = {'city' : 'Detroit',\n",
    "             'team name' : 'Red Wings',\n",
    "             'colors' : ['red', 'white']}\n",
    "print(dictionary)"
   ]
  },
  {
   "cell_type": "markdown",
   "id": "ba84f9ca",
   "metadata": {},
   "source": [
    "### Accessing Objects Within a List and Adding Items to the End of Lists\n",
    "To access a specific object within a list, put the indicies of the desired objects in brackets. Index 0 accessed the 1st value within a list while index 1 accesses the 2nd value and so on. Index -1 accesses the last value. To access multiple items, use : between the minimum and maximum value (minimum is inclusive and maximum is exclusive).\n",
    "\n",
    "The append function adds new objects to the end of a list."
   ]
  },
  {
   "cell_type": "code",
   "execution_count": 14,
   "id": "6251ae9e",
   "metadata": {},
   "outputs": [
    {
     "name": "stdout",
     "output_type": "stream",
     "text": [
      "['lets', 'go', 'blue', 'hail']\n"
     ]
    }
   ],
   "source": [
    "list2 = ['lets', 'go', 'blue']\n",
    "#print(list2)\n",
    "#print(list2[0:2])\n",
    "\n",
    "list2.append('hail')\n",
    "print(list2)"
   ]
  },
  {
   "cell_type": "markdown",
   "id": "1158e64d",
   "metadata": {},
   "source": [
    "### For Loops and If/Else Statements\n",
    "A for loop is used to iterate through a list.\n",
    "\n",
    "If/elif/else statements are used to only proceed with the following code if a certain condition is met."
   ]
  },
  {
   "cell_type": "code",
   "execution_count": 16,
   "id": "aa356b6d",
   "metadata": {},
   "outputs": [
    {
     "name": "stdout",
     "output_type": "stream",
     "text": [
      "1 is less than 5\n",
      "2 is less than 5\n",
      "3 is less than 5\n",
      "4 is less than 5\n",
      "5 is equal to 5\n",
      "6 is greater than 5\n",
      "7 is greater than 5\n",
      "8 is greater than 5\n",
      "9 is greater than 5\n",
      "10 is greater than 5\n"
     ]
    }
   ],
   "source": [
    "list3 = [1, 2, 3, 4, 5, 6, 7, 8, 9, 10]\n",
    "for num in list3:\n",
    "    #print(num)\n",
    "    if num > 5:\n",
    "        print(str(num) + \" is greater than 5\")\n",
    "    elif num < 5:\n",
    "        print(str(num) + \" is less than 5\")\n",
    "    else:\n",
    "        print(str(num) + \" is equal to 5\")"
   ]
  },
  {
   "cell_type": "markdown",
   "id": "3d824764",
   "metadata": {},
   "source": [
    "### While Loops\n",
    "While loops are used to iterate through as long as a certain condition holds true."
   ]
  },
  {
   "cell_type": "code",
   "execution_count": 17,
   "id": "29db94cf",
   "metadata": {},
   "outputs": [
    {
     "name": "stdout",
     "output_type": "stream",
     "text": [
      "0\n",
      "1\n",
      "2\n",
      "3\n",
      "4\n",
      "5\n",
      "6\n",
      "7\n",
      "8\n",
      "9\n",
      "10\n"
     ]
    }
   ],
   "source": [
    "i = 0\n",
    "while i <= 10:\n",
    "    print(i)\n",
    "    i = i + 1"
   ]
  },
  {
   "cell_type": "markdown",
   "id": "6f2cd5b9",
   "metadata": {},
   "source": [
    "### Modifying Strings\n",
    "The split function is used to split a string into a list seperating values by space or a given value.\n",
    "\n",
    "Strings can be sliced in the same way as lists, where the minimum value is inclusive and the maximum value is exclusive."
   ]
  },
  {
   "cell_type": "code",
   "execution_count": 19,
   "id": "531d8b1a",
   "metadata": {},
   "outputs": [
    {
     "name": "stdout",
     "output_type": "stream",
     "text": [
      "['hail', 'to', 'to', 'the', 'victors']\n",
      "['ha', 'l to to the v', 'ctors']\n"
     ]
    }
   ],
   "source": [
    "our_string = 'hail to to the victors'\n",
    "print(our_string.split())\n",
    "print(our_string.split('i'))"
   ]
  },
  {
   "cell_type": "code",
   "execution_count": 21,
   "id": "d904bdc6",
   "metadata": {},
   "outputs": [
    {
     "name": "stdout",
     "output_type": "stream",
     "text": [
      "o to the vic\n",
      "hail t\n",
      "o to the victors\n"
     ]
    }
   ],
   "source": [
    "print(our_string[6:18]) # initial value is inclusive, final value is exclusive\n",
    "print(our_string[:6])\n",
    "print(our_string[6:])"
   ]
  },
  {
   "cell_type": "markdown",
   "id": "64f0e1c9",
   "metadata": {},
   "source": [
    "### Working With Libraries\n",
    "One of the best things about Python is its abundance of helpful libraries that are easy to access.\n",
    "\n",
    "Note: You must run import _____ in order to use these libraries"
   ]
  },
  {
   "cell_type": "code",
   "execution_count": 22,
   "id": "a59c929e",
   "metadata": {},
   "outputs": [],
   "source": [
    "import statistics"
   ]
  },
  {
   "cell_type": "code",
   "execution_count": 23,
   "id": "1b86b774",
   "metadata": {},
   "outputs": [
    {
     "name": "stdout",
     "output_type": "stream",
     "text": [
      "64.0\n"
     ]
    }
   ],
   "source": [
    "list_of_nums = [89, 56, 78, 3, 45, 79, 41, 90, 4, 72]\n",
    "median = statistics.median(list_of_nums)\n",
    "print(median)"
   ]
  },
  {
   "cell_type": "markdown",
   "id": "4a4e121d",
   "metadata": {},
   "source": [
    "### Writing Functions\n",
    "Functions are blocks of code that you can write to perform certain things quicker and easier. They must be called in order to run. Important syntax involves writing def [name of function]: and return [whatever you want to return]"
   ]
  },
  {
   "cell_type": "code",
   "execution_count": 25,
   "id": "c2a64007",
   "metadata": {},
   "outputs": [
    {
     "data": {
      "text/plain": [
       "['baseball', 'football', 'basketball']"
      ]
     },
     "execution_count": 25,
     "metadata": {},
     "output_type": "execute_result"
    }
   ],
   "source": [
    "list4 = ['baseball', 'football']\n",
    "\n",
    "def add_to_our_list(our_list, new_word):\n",
    "    our_list.append(new_word)\n",
    "    #print(our_list)\n",
    "    return our_list\n",
    "\n",
    "add_to_our_list(list4, 'basketball')"
   ]
  },
  {
   "cell_type": "code",
   "execution_count": null,
   "id": "55927d0b",
   "metadata": {},
   "outputs": [],
   "source": []
  }
 ],
 "metadata": {
  "kernelspec": {
   "display_name": "Python 3 (ipykernel)",
   "language": "python",
   "name": "python3"
  },
  "language_info": {
   "codemirror_mode": {
    "name": "ipython",
    "version": 3
   },
   "file_extension": ".py",
   "mimetype": "text/x-python",
   "name": "python",
   "nbconvert_exporter": "python",
   "pygments_lexer": "ipython3",
   "version": "3.9.7"
  }
 },
 "nbformat": 4,
 "nbformat_minor": 5
}
