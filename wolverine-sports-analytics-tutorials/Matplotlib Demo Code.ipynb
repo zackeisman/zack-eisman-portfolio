{
 "cells": [
  {
   "cell_type": "markdown",
   "id": "295e9aa4",
   "metadata": {},
   "source": [
    "# Matplotlib Demo Code"
   ]
  },
  {
   "cell_type": "markdown",
   "id": "50769337",
   "metadata": {},
   "source": [
    "### Imports\n",
    "* We can shorted the import to plt which saves time later\n",
    "\n",
    "* pyplot is a general module that we will use but feel free to explore other aspects of Matplotlib"
   ]
  },
  {
   "cell_type": "code",
   "execution_count": 1,
   "id": "e9d8e542",
   "metadata": {},
   "outputs": [],
   "source": [
    "import pandas as pd\n",
    "import matplotlib.pyplot as plt"
   ]
  },
  {
   "cell_type": "markdown",
   "id": "bb287542",
   "metadata": {},
   "source": [
    "### Reading in DataFrame"
   ]
  },
  {
   "cell_type": "code",
   "execution_count": 2,
   "id": "88bdfa96",
   "metadata": {},
   "outputs": [
    {
     "data": {
      "text/html": [
       "<div>\n",
       "<style scoped>\n",
       "    .dataframe tbody tr th:only-of-type {\n",
       "        vertical-align: middle;\n",
       "    }\n",
       "\n",
       "    .dataframe tbody tr th {\n",
       "        vertical-align: top;\n",
       "    }\n",
       "\n",
       "    .dataframe thead th {\n",
       "        text-align: right;\n",
       "    }\n",
       "</style>\n",
       "<table border=\"1\" class=\"dataframe\">\n",
       "  <thead>\n",
       "    <tr style=\"text-align: right;\">\n",
       "      <th></th>\n",
       "      <th>id</th>\n",
       "      <th>date</th>\n",
       "      <th>year</th>\n",
       "      <th>opponent</th>\n",
       "      <th>home_away</th>\n",
       "      <th>result</th>\n",
       "      <th>points_scored</th>\n",
       "      <th>points_against</th>\n",
       "      <th>pass_cmp</th>\n",
       "      <th>pass_att</th>\n",
       "      <th>...</th>\n",
       "      <th>pass_yrds</th>\n",
       "      <th>pass_td</th>\n",
       "      <th>pass_1st_down</th>\n",
       "      <th>rush_att</th>\n",
       "      <th>rush_yrds</th>\n",
       "      <th>rush_td</th>\n",
       "      <th>rush_1st_down</th>\n",
       "      <th>total_offense</th>\n",
       "      <th>fumbles</th>\n",
       "      <th>ints</th>\n",
       "    </tr>\n",
       "  </thead>\n",
       "  <tbody>\n",
       "    <tr>\n",
       "      <th>0</th>\n",
       "      <td>1</td>\n",
       "      <td>2011-09-03</td>\n",
       "      <td>2011</td>\n",
       "      <td>Western Michigan</td>\n",
       "      <td>Home</td>\n",
       "      <td>W</td>\n",
       "      <td>34</td>\n",
       "      <td>10</td>\n",
       "      <td>9</td>\n",
       "      <td>13</td>\n",
       "      <td>...</td>\n",
       "      <td>98</td>\n",
       "      <td>0</td>\n",
       "      <td>5</td>\n",
       "      <td>26</td>\n",
       "      <td>190</td>\n",
       "      <td>3</td>\n",
       "      <td>9</td>\n",
       "      <td>288</td>\n",
       "      <td>0</td>\n",
       "      <td>0</td>\n",
       "    </tr>\n",
       "    <tr>\n",
       "      <th>1</th>\n",
       "      <td>2</td>\n",
       "      <td>2011-09-10</td>\n",
       "      <td>2011</td>\n",
       "      <td>Notre Dame</td>\n",
       "      <td>Home</td>\n",
       "      <td>W</td>\n",
       "      <td>35</td>\n",
       "      <td>31</td>\n",
       "      <td>11</td>\n",
       "      <td>24</td>\n",
       "      <td>...</td>\n",
       "      <td>338</td>\n",
       "      <td>4</td>\n",
       "      <td>10</td>\n",
       "      <td>26</td>\n",
       "      <td>114</td>\n",
       "      <td>1</td>\n",
       "      <td>5</td>\n",
       "      <td>452</td>\n",
       "      <td>0</td>\n",
       "      <td>3</td>\n",
       "    </tr>\n",
       "    <tr>\n",
       "      <th>2</th>\n",
       "      <td>3</td>\n",
       "      <td>2011-09-17</td>\n",
       "      <td>2011</td>\n",
       "      <td>Eastern Michigan</td>\n",
       "      <td>Home</td>\n",
       "      <td>W</td>\n",
       "      <td>31</td>\n",
       "      <td>3</td>\n",
       "      <td>7</td>\n",
       "      <td>18</td>\n",
       "      <td>...</td>\n",
       "      <td>95</td>\n",
       "      <td>2</td>\n",
       "      <td>5</td>\n",
       "      <td>50</td>\n",
       "      <td>376</td>\n",
       "      <td>2</td>\n",
       "      <td>19</td>\n",
       "      <td>471</td>\n",
       "      <td>0</td>\n",
       "      <td>1</td>\n",
       "    </tr>\n",
       "    <tr>\n",
       "      <th>3</th>\n",
       "      <td>4</td>\n",
       "      <td>2011-09-24</td>\n",
       "      <td>2011</td>\n",
       "      <td>San Diego State</td>\n",
       "      <td>Home</td>\n",
       "      <td>W</td>\n",
       "      <td>28</td>\n",
       "      <td>7</td>\n",
       "      <td>8</td>\n",
       "      <td>17</td>\n",
       "      <td>...</td>\n",
       "      <td>93</td>\n",
       "      <td>0</td>\n",
       "      <td>3</td>\n",
       "      <td>45</td>\n",
       "      <td>320</td>\n",
       "      <td>4</td>\n",
       "      <td>14</td>\n",
       "      <td>413</td>\n",
       "      <td>2</td>\n",
       "      <td>2</td>\n",
       "    </tr>\n",
       "    <tr>\n",
       "      <th>4</th>\n",
       "      <td>5</td>\n",
       "      <td>2011-10-01</td>\n",
       "      <td>2011</td>\n",
       "      <td>Minnesota</td>\n",
       "      <td>Home</td>\n",
       "      <td>W</td>\n",
       "      <td>58</td>\n",
       "      <td>0</td>\n",
       "      <td>18</td>\n",
       "      <td>25</td>\n",
       "      <td>...</td>\n",
       "      <td>217</td>\n",
       "      <td>3</td>\n",
       "      <td>10</td>\n",
       "      <td>48</td>\n",
       "      <td>363</td>\n",
       "      <td>3</td>\n",
       "      <td>19</td>\n",
       "      <td>580</td>\n",
       "      <td>0</td>\n",
       "      <td>0</td>\n",
       "    </tr>\n",
       "    <tr>\n",
       "      <th>...</th>\n",
       "      <td>...</td>\n",
       "      <td>...</td>\n",
       "      <td>...</td>\n",
       "      <td>...</td>\n",
       "      <td>...</td>\n",
       "      <td>...</td>\n",
       "      <td>...</td>\n",
       "      <td>...</td>\n",
       "      <td>...</td>\n",
       "      <td>...</td>\n",
       "      <td>...</td>\n",
       "      <td>...</td>\n",
       "      <td>...</td>\n",
       "      <td>...</td>\n",
       "      <td>...</td>\n",
       "      <td>...</td>\n",
       "      <td>...</td>\n",
       "      <td>...</td>\n",
       "      <td>...</td>\n",
       "      <td>...</td>\n",
       "      <td>...</td>\n",
       "    </tr>\n",
       "    <tr>\n",
       "      <th>160</th>\n",
       "      <td>161</td>\n",
       "      <td>2023-11-18</td>\n",
       "      <td>2023</td>\n",
       "      <td>Maryland</td>\n",
       "      <td>Away</td>\n",
       "      <td>W</td>\n",
       "      <td>31</td>\n",
       "      <td>24</td>\n",
       "      <td>12</td>\n",
       "      <td>23</td>\n",
       "      <td>...</td>\n",
       "      <td>141</td>\n",
       "      <td>0</td>\n",
       "      <td>9</td>\n",
       "      <td>45</td>\n",
       "      <td>150</td>\n",
       "      <td>3</td>\n",
       "      <td>9</td>\n",
       "      <td>291</td>\n",
       "      <td>0</td>\n",
       "      <td>1</td>\n",
       "    </tr>\n",
       "    <tr>\n",
       "      <th>161</th>\n",
       "      <td>162</td>\n",
       "      <td>2023-11-25</td>\n",
       "      <td>2023</td>\n",
       "      <td>Ohio State</td>\n",
       "      <td>Home</td>\n",
       "      <td>W</td>\n",
       "      <td>30</td>\n",
       "      <td>24</td>\n",
       "      <td>17</td>\n",
       "      <td>21</td>\n",
       "      <td>...</td>\n",
       "      <td>182</td>\n",
       "      <td>1</td>\n",
       "      <td>10</td>\n",
       "      <td>39</td>\n",
       "      <td>156</td>\n",
       "      <td>2</td>\n",
       "      <td>8</td>\n",
       "      <td>338</td>\n",
       "      <td>0</td>\n",
       "      <td>0</td>\n",
       "    </tr>\n",
       "    <tr>\n",
       "      <th>162</th>\n",
       "      <td>163</td>\n",
       "      <td>2023-12-02</td>\n",
       "      <td>2023</td>\n",
       "      <td>Iowa</td>\n",
       "      <td>Nuetral</td>\n",
       "      <td>W</td>\n",
       "      <td>26</td>\n",
       "      <td>0</td>\n",
       "      <td>22</td>\n",
       "      <td>30</td>\n",
       "      <td>...</td>\n",
       "      <td>147</td>\n",
       "      <td>0</td>\n",
       "      <td>9</td>\n",
       "      <td>34</td>\n",
       "      <td>66</td>\n",
       "      <td>2</td>\n",
       "      <td>3</td>\n",
       "      <td>213</td>\n",
       "      <td>0</td>\n",
       "      <td>0</td>\n",
       "    </tr>\n",
       "    <tr>\n",
       "      <th>163</th>\n",
       "      <td>164</td>\n",
       "      <td>2024-01-01</td>\n",
       "      <td>2024</td>\n",
       "      <td>Alabama</td>\n",
       "      <td>Nuetral</td>\n",
       "      <td>W</td>\n",
       "      <td>27</td>\n",
       "      <td>20</td>\n",
       "      <td>17</td>\n",
       "      <td>27</td>\n",
       "      <td>...</td>\n",
       "      <td>221</td>\n",
       "      <td>3</td>\n",
       "      <td>10</td>\n",
       "      <td>32</td>\n",
       "      <td>130</td>\n",
       "      <td>1</td>\n",
       "      <td>5</td>\n",
       "      <td>351</td>\n",
       "      <td>1</td>\n",
       "      <td>0</td>\n",
       "    </tr>\n",
       "    <tr>\n",
       "      <th>164</th>\n",
       "      <td>165</td>\n",
       "      <td>2024-01-08</td>\n",
       "      <td>2024</td>\n",
       "      <td>Washington</td>\n",
       "      <td>Nuetral</td>\n",
       "      <td>W</td>\n",
       "      <td>34</td>\n",
       "      <td>13</td>\n",
       "      <td>10</td>\n",
       "      <td>19</td>\n",
       "      <td>...</td>\n",
       "      <td>140</td>\n",
       "      <td>0</td>\n",
       "      <td>6</td>\n",
       "      <td>38</td>\n",
       "      <td>303</td>\n",
       "      <td>4</td>\n",
       "      <td>10</td>\n",
       "      <td>443</td>\n",
       "      <td>0</td>\n",
       "      <td>0</td>\n",
       "    </tr>\n",
       "  </tbody>\n",
       "</table>\n",
       "<p>165 rows × 21 columns</p>\n",
       "</div>"
      ],
      "text/plain": [
       "      id        date  year          opponent home_away result  points_scored  \\\n",
       "0      1  2011-09-03  2011  Western Michigan      Home      W             34   \n",
       "1      2  2011-09-10  2011        Notre Dame      Home      W             35   \n",
       "2      3  2011-09-17  2011  Eastern Michigan      Home      W             31   \n",
       "3      4  2011-09-24  2011   San Diego State      Home      W             28   \n",
       "4      5  2011-10-01  2011         Minnesota      Home      W             58   \n",
       "..   ...         ...   ...               ...       ...    ...            ...   \n",
       "160  161  2023-11-18  2023          Maryland      Away      W             31   \n",
       "161  162  2023-11-25  2023        Ohio State      Home      W             30   \n",
       "162  163  2023-12-02  2023              Iowa   Nuetral      W             26   \n",
       "163  164  2024-01-01  2024           Alabama   Nuetral      W             27   \n",
       "164  165  2024-01-08  2024        Washington   Nuetral      W             34   \n",
       "\n",
       "     points_against  pass_cmp  pass_att  ...  pass_yrds  pass_td  \\\n",
       "0                10         9        13  ...         98        0   \n",
       "1                31        11        24  ...        338        4   \n",
       "2                 3         7        18  ...         95        2   \n",
       "3                 7         8        17  ...         93        0   \n",
       "4                 0        18        25  ...        217        3   \n",
       "..              ...       ...       ...  ...        ...      ...   \n",
       "160              24        12        23  ...        141        0   \n",
       "161              24        17        21  ...        182        1   \n",
       "162               0        22        30  ...        147        0   \n",
       "163              20        17        27  ...        221        3   \n",
       "164              13        10        19  ...        140        0   \n",
       "\n",
       "     pass_1st_down  rush_att  rush_yrds  rush_td  rush_1st_down  \\\n",
       "0                5        26        190        3              9   \n",
       "1               10        26        114        1              5   \n",
       "2                5        50        376        2             19   \n",
       "3                3        45        320        4             14   \n",
       "4               10        48        363        3             19   \n",
       "..             ...       ...        ...      ...            ...   \n",
       "160              9        45        150        3              9   \n",
       "161             10        39        156        2              8   \n",
       "162              9        34         66        2              3   \n",
       "163             10        32        130        1              5   \n",
       "164              6        38        303        4             10   \n",
       "\n",
       "     total_offense  fumbles  ints  \n",
       "0              288        0     0  \n",
       "1              452        0     3  \n",
       "2              471        0     1  \n",
       "3              413        2     2  \n",
       "4              580        0     0  \n",
       "..             ...      ...   ...  \n",
       "160            291        0     1  \n",
       "161            338        0     0  \n",
       "162            213        0     0  \n",
       "163            351        1     0  \n",
       "164            443        0     0  \n",
       "\n",
       "[165 rows x 21 columns]"
      ]
     },
     "execution_count": 2,
     "metadata": {},
     "output_type": "execute_result"
    }
   ],
   "source": [
    "df = pd.read_csv(\"Michigan_GameLogs_W24.csv\")\n",
    "df"
   ]
  },
  {
   "cell_type": "code",
   "execution_count": 3,
   "id": "dc6ee305",
   "metadata": {},
   "outputs": [
    {
     "data": {
      "text/plain": [
       "Index(['id', 'date', 'year', 'opponent', 'home/away', 'result',\n",
       "       'points scored', 'points against', 'pass completions', 'pass attempts',\n",
       "       'pass percentage', 'pass yards', 'pass tds', 'pass 1st downs',\n",
       "       'rush attempts', 'rush yards', 'rush tds', 'rush 1st downs',\n",
       "       'total offense', 'fumbles', 'ints'],\n",
       "      dtype='object')"
      ]
     },
     "execution_count": 3,
     "metadata": {},
     "output_type": "execute_result"
    }
   ],
   "source": [
    "df.rename(columns = {\n",
    "    'home_away': 'Home/Away',\n",
    "    'points_scored': 'Points Scored',\n",
    "    'points_against': 'Points Against',\n",
    "    'pass_cmp': 'Pass Completions',\n",
    "    'pass_att': 'Pass Attempts',\n",
    "    'pass_pct' : 'Pass Percentage',\n",
    "    'pass_yrds': 'Pass Yards',\n",
    "    'pass_td': 'Pass TDs',\n",
    "    'pass_1st_down': 'Pass 1st Downs',\n",
    "    'rush_att': 'Rush Attempts',\n",
    "    'rush_yrds': 'Rush Yards',\n",
    "    'rush_td': 'Rush TDs',\n",
    "    'rush_1st_down': 'Rush 1st Downs',\n",
    "    'total_offense' : 'Total Offense'\n",
    "}, inplace = True)\n",
    "df.columns = [col.lower() for col in df]\n",
    "df.columns"
   ]
  },
  {
   "cell_type": "markdown",
   "id": "27ea197e",
   "metadata": {},
   "source": [
    "### Scatter Plots"
   ]
  },
  {
   "cell_type": "code",
   "execution_count": 5,
   "id": "87507f9e",
   "metadata": {},
   "outputs": [
    {
     "data": {
      "image/png": "[encoded data removed]",
      "text/plain": [
       "<Figure size 432x288 with 1 Axes>"
      ]
     },
     "metadata": {
      "needs_background": "light"
     },
     "output_type": "display_data"
    }
   ],
   "source": [
    "# basic scatter plot with axes labels\n",
    "plt.scatter(df['pass yards'], df['rush yards'])\n",
    "plt.xlabel(\"Pass Yards\")       #use xlabel and ylabel to add labels to the axes\n",
    "plt.ylabel(\"Rush Yards\")\n",
    "plt.title('Passing and Rushing Yards Scatterplot')     # use title to add a title for the entire plot\n",
    "plt.show()"
   ]
  },
  {
   "cell_type": "code",
   "execution_count": 6,
   "id": "540ff605",
   "metadata": {},
   "outputs": [
    {
     "data": {
      "image/png": "[encoded data removed]",
      "text/plain": [
       "<Figure size 432x288 with 1 Axes>"
      ]
     },
     "metadata": {
      "needs_background": "light"
     },
     "output_type": "display_data"
    }
   ],
   "source": [
    "# we can change the colors of each data point based on a certain condition, in this case result\n",
    "plt.clf()\n",
    "groups = df.groupby('result')\n",
    "for result, group in groups:\n",
    "    plt.scatter(group['pass yards'], group['rush yards'], label = result)\n",
    "plt.legend()\n",
    "plt.title('Passing and Rushing Yards Scatterplot by Game Result')\n",
    "plt.show()"
   ]
  },
  {
   "cell_type": "code",
   "execution_count": 7,
   "id": "774d81a7",
   "metadata": {},
   "outputs": [
    {
     "data": {
      "image/png": "[encoded data removed]",
      "text/plain": [
       "<Figure size 432x288 with 1 Axes>"
      ]
     },
     "metadata": {
      "needs_background": "light"
     },
     "output_type": "display_data"
    }
   ],
   "source": [
    "# Another basic scatter plot with variables that are more correlated\n",
    "plt.clf()\n",
    "plt.scatter(df['total offense'], df['points scored'])\n",
    "plt.xlabel('Total Offensive Yards')\n",
    "plt.ylabel('Total Points Scored')\n",
    "plt.title('Total Offensive Yards and Total Points Scatterplot')\n",
    "plt.show()"
   ]
  },
  {
   "cell_type": "markdown",
   "id": "2f422212",
   "metadata": {},
   "source": [
    "### Bar Graph"
   ]
  },
  {
   "cell_type": "code",
   "execution_count": 9,
   "id": "fda28d5e",
   "metadata": {},
   "outputs": [
    {
     "data": {
      "image/png": "[encoded data removed]",
      "text/plain": [
       "<Figure size 432x288 with 1 Axes>"
      ]
     },
     "metadata": {
      "needs_background": "light"
     },
     "output_type": "display_data"
    }
   ],
   "source": [
    "# basic bar graph that shows Michigan's points for each year\n",
    "plt.clf()\n",
    "avg_points = df.groupby('year')['points scored'].mean()\n",
    "avg_points.plot(kind = 'bar')\n",
    "plt.ylabel('Points Scored')\n",
    "plt.title('Michigan Points Scored by Year')\n",
    "plt.show()"
   ]
  },
  {
   "cell_type": "code",
   "execution_count": 10,
   "id": "f46f8ba4",
   "metadata": {},
   "outputs": [
    {
     "data": {
      "text/plain": [
       "<Figure size 432x288 with 0 Axes>"
      ]
     },
     "metadata": {},
     "output_type": "display_data"
    },
    {
     "data": {
      "image/png": "[encoded data removed]",
      "text/plain": [
       "<Figure size 432x288 with 1 Axes>"
      ]
     },
     "metadata": {
      "needs_background": "light"
     },
     "output_type": "display_data"
    }
   ],
   "source": [
    "# stacked bar chart showing how Michigan's rushing and passing yards compiled each year\n",
    "plt.clf()\n",
    "avg_yards = df.groupby('year')[['pass yards', 'rush yards']].sum()\n",
    "avg_yards.plot(kind = 'bar', stacked = True)\n",
    "plt.ylabel('Total Yards')\n",
    "plt.title('Michigan Passing and Rushing Yards by Year')\n",
    "plt.show()"
   ]
  },
  {
   "cell_type": "code",
   "execution_count": 11,
   "id": "392158af",
   "metadata": {},
   "outputs": [
    {
     "data": {
      "text/plain": [
       "<Figure size 432x288 with 0 Axes>"
      ]
     },
     "metadata": {},
     "output_type": "display_data"
    },
    {
     "data": {
      "image/png": "[encoded data removed]",
      "text/plain": [
       "<Figure size 432x288 with 1 Axes>"
      ]
     },
     "metadata": {
      "needs_background": "light"
     },
     "output_type": "display_data"
    }
   ],
   "source": [
    "# side-by-side bar chart showing Michigan's points scored and allowed each year\n",
    "plt.clf()\n",
    "points = df.groupby('year')[['points scored', 'points against']].mean()\n",
    "points.plot(kind = 'bar')\n",
    "plt.ylabel('Total Points')\n",
    "plt.title('Michigan Points For and Against Per Game by Year')\n",
    "plt.show()"
   ]
  },
  {
   "cell_type": "markdown",
   "id": "1205cd54",
   "metadata": {},
   "source": [
    "### Pie Charts"
   ]
  },
  {
   "cell_type": "code",
   "execution_count": 12,
   "id": "ebad7569",
   "metadata": {},
   "outputs": [
    {
     "data": {
      "text/plain": [
       "['Michigan State',\n",
       " 'Ohio State',\n",
       " 'Indiana',\n",
       " 'Penn State',\n",
       " 'Rutgers',\n",
       " 'Maryland',\n",
       " 'Minnesota',\n",
       " 'Iowa',\n",
       " 'Northwestern',\n",
       " 'Nebraska']"
      ]
     },
     "execution_count": 12,
     "metadata": {},
     "output_type": "execute_result"
    }
   ],
   "source": [
    "# This creates a list of the top 10 most common michigan football opponents\n",
    "top_10_opps = df['opponent'].value_counts()[:10].index.tolist()\n",
    "top_10_opps"
   ]
  },
  {
   "cell_type": "code",
   "execution_count": 13,
   "id": "c7533939",
   "metadata": {},
   "outputs": [
    {
     "data": {
      "text/html": [
       "<div>\n",
       "<style scoped>\n",
       "    .dataframe tbody tr th:only-of-type {\n",
       "        vertical-align: middle;\n",
       "    }\n",
       "\n",
       "    .dataframe tbody tr th {\n",
       "        vertical-align: top;\n",
       "    }\n",
       "\n",
       "    .dataframe thead th {\n",
       "        text-align: right;\n",
       "    }\n",
       "</style>\n",
       "<table border=\"1\" class=\"dataframe\">\n",
       "  <thead>\n",
       "    <tr style=\"text-align: right;\">\n",
       "      <th></th>\n",
       "      <th>id</th>\n",
       "      <th>date</th>\n",
       "      <th>year</th>\n",
       "      <th>opponent</th>\n",
       "      <th>home/away</th>\n",
       "      <th>result</th>\n",
       "      <th>points scored</th>\n",
       "      <th>points against</th>\n",
       "      <th>pass completions</th>\n",
       "      <th>pass attempts</th>\n",
       "      <th>...</th>\n",
       "      <th>pass yards</th>\n",
       "      <th>pass tds</th>\n",
       "      <th>pass 1st downs</th>\n",
       "      <th>rush attempts</th>\n",
       "      <th>rush yards</th>\n",
       "      <th>rush tds</th>\n",
       "      <th>rush 1st downs</th>\n",
       "      <th>total offense</th>\n",
       "      <th>fumbles</th>\n",
       "      <th>ints</th>\n",
       "    </tr>\n",
       "  </thead>\n",
       "  <tbody>\n",
       "    <tr>\n",
       "      <th>4</th>\n",
       "      <td>5</td>\n",
       "      <td>2011-10-01</td>\n",
       "      <td>2011</td>\n",
       "      <td>Minnesota</td>\n",
       "      <td>Home</td>\n",
       "      <td>W</td>\n",
       "      <td>58</td>\n",
       "      <td>0</td>\n",
       "      <td>18</td>\n",
       "      <td>25</td>\n",
       "      <td>...</td>\n",
       "      <td>217</td>\n",
       "      <td>3</td>\n",
       "      <td>10</td>\n",
       "      <td>48</td>\n",
       "      <td>363</td>\n",
       "      <td>3</td>\n",
       "      <td>19</td>\n",
       "      <td>580</td>\n",
       "      <td>0</td>\n",
       "      <td>0</td>\n",
       "    </tr>\n",
       "    <tr>\n",
       "      <th>5</th>\n",
       "      <td>6</td>\n",
       "      <td>2011-10-08</td>\n",
       "      <td>2011</td>\n",
       "      <td>Northwestern</td>\n",
       "      <td>Away</td>\n",
       "      <td>W</td>\n",
       "      <td>42</td>\n",
       "      <td>24</td>\n",
       "      <td>19</td>\n",
       "      <td>28</td>\n",
       "      <td>...</td>\n",
       "      <td>362</td>\n",
       "      <td>2</td>\n",
       "      <td>14</td>\n",
       "      <td>50</td>\n",
       "      <td>179</td>\n",
       "      <td>4</td>\n",
       "      <td>8</td>\n",
       "      <td>541</td>\n",
       "      <td>0</td>\n",
       "      <td>3</td>\n",
       "    </tr>\n",
       "    <tr>\n",
       "      <th>6</th>\n",
       "      <td>7</td>\n",
       "      <td>2011-10-15</td>\n",
       "      <td>2011</td>\n",
       "      <td>Michigan State</td>\n",
       "      <td>Away</td>\n",
       "      <td>L</td>\n",
       "      <td>14</td>\n",
       "      <td>28</td>\n",
       "      <td>12</td>\n",
       "      <td>31</td>\n",
       "      <td>...</td>\n",
       "      <td>168</td>\n",
       "      <td>1</td>\n",
       "      <td>6</td>\n",
       "      <td>36</td>\n",
       "      <td>82</td>\n",
       "      <td>1</td>\n",
       "      <td>8</td>\n",
       "      <td>250</td>\n",
       "      <td>0</td>\n",
       "      <td>1</td>\n",
       "    </tr>\n",
       "    <tr>\n",
       "      <th>8</th>\n",
       "      <td>9</td>\n",
       "      <td>2011-11-05</td>\n",
       "      <td>2011</td>\n",
       "      <td>Iowa</td>\n",
       "      <td>Away</td>\n",
       "      <td>L</td>\n",
       "      <td>16</td>\n",
       "      <td>24</td>\n",
       "      <td>18</td>\n",
       "      <td>38</td>\n",
       "      <td>...</td>\n",
       "      <td>196</td>\n",
       "      <td>2</td>\n",
       "      <td>10</td>\n",
       "      <td>37</td>\n",
       "      <td>127</td>\n",
       "      <td>0</td>\n",
       "      <td>10</td>\n",
       "      <td>323</td>\n",
       "      <td>1</td>\n",
       "      <td>1</td>\n",
       "    </tr>\n",
       "    <tr>\n",
       "      <th>10</th>\n",
       "      <td>11</td>\n",
       "      <td>2011-11-19</td>\n",
       "      <td>2011</td>\n",
       "      <td>Nebraska</td>\n",
       "      <td>Home</td>\n",
       "      <td>W</td>\n",
       "      <td>45</td>\n",
       "      <td>17</td>\n",
       "      <td>11</td>\n",
       "      <td>19</td>\n",
       "      <td>...</td>\n",
       "      <td>180</td>\n",
       "      <td>2</td>\n",
       "      <td>6</td>\n",
       "      <td>61</td>\n",
       "      <td>238</td>\n",
       "      <td>4</td>\n",
       "      <td>14</td>\n",
       "      <td>418</td>\n",
       "      <td>0</td>\n",
       "      <td>1</td>\n",
       "    </tr>\n",
       "  </tbody>\n",
       "</table>\n",
       "<p>5 rows × 21 columns</p>\n",
       "</div>"
      ],
      "text/plain": [
       "    id        date  year        opponent home/away result  points scored  \\\n",
       "4    5  2011-10-01  2011       Minnesota      Home      W             58   \n",
       "5    6  2011-10-08  2011    Northwestern      Away      W             42   \n",
       "6    7  2011-10-15  2011  Michigan State      Away      L             14   \n",
       "8    9  2011-11-05  2011            Iowa      Away      L             16   \n",
       "10  11  2011-11-19  2011        Nebraska      Home      W             45   \n",
       "\n",
       "    points against  pass completions  pass attempts  ...  pass yards  \\\n",
       "4                0                18             25  ...         217   \n",
       "5               24                19             28  ...         362   \n",
       "6               28                12             31  ...         168   \n",
       "8               24                18             38  ...         196   \n",
       "10              17                11             19  ...         180   \n",
       "\n",
       "    pass tds  pass 1st downs  rush attempts  rush yards  rush tds  \\\n",
       "4          3              10             48         363         3   \n",
       "5          2              14             50         179         4   \n",
       "6          1               6             36          82         1   \n",
       "8          2              10             37         127         0   \n",
       "10         2               6             61         238         4   \n",
       "\n",
       "    rush 1st downs  total offense  fumbles  ints  \n",
       "4               19            580        0     0  \n",
       "5                8            541        0     3  \n",
       "6                8            250        0     1  \n",
       "8               10            323        1     1  \n",
       "10              14            418        0     1  \n",
       "\n",
       "[5 rows x 21 columns]"
      ]
     },
     "execution_count": 13,
     "metadata": {},
     "output_type": "execute_result"
    }
   ],
   "source": [
    "# This creates a new df that only contains the rows in which michigan played one of the top 10 most frequent colleges\n",
    "opponent_freq_df = df[df['opponent'].isin(top_10_opps)]\n",
    "opponent_freq_df.head(5)"
   ]
  },
  {
   "cell_type": "code",
   "execution_count": 15,
   "id": "8940f0c7",
   "metadata": {},
   "outputs": [
    {
     "data": {
      "text/plain": [
       "<AxesSubplot:title={'center':'Top 10 Michigan Football Opponents by Percentage'}, ylabel='None'>"
      ]
     },
     "execution_count": 15,
     "metadata": {},
     "output_type": "execute_result"
    },
    {
     "data": {
      "image/png": "[encoded data removed]",
      "text/plain": [
       "<Figure size 432x288 with 1 Axes>"
      ]
     },
     "metadata": {},
     "output_type": "display_data"
    }
   ],
   "source": [
    "# pie chart that displays this data by opponent\n",
    "opponent_freq_df.groupby('opponent').size().plot(kind = 'pie',\n",
    "                                                 autopct = '%.2f',\n",
    "                                                 explode = [0,0,0,0,0,0,0,0.2,0,0], \n",
    "                                                 title = 'Top 10 Michigan Football Opponents by Percentage')"
   ]
  },
  {
   "cell_type": "markdown",
   "id": "d3646bd2",
   "metadata": {},
   "source": [
    "### Other Plots"
   ]
  },
  {
   "cell_type": "code",
   "execution_count": 16,
   "id": "fe97acdb",
   "metadata": {},
   "outputs": [
    {
     "data": {
      "image/png": "[encoded data removed]",
      "text/plain": [
       "<Figure size 432x288 with 1 Axes>"
      ]
     },
     "metadata": {
      "needs_background": "light"
     },
     "output_type": "display_data"
    }
   ],
   "source": [
    "# Basic Histogram\n",
    "plt.clf()\n",
    "plt.hist(df['points against'])\n",
    "plt.xlabel('Points Against')\n",
    "plt.ylabel('Frequency')\n",
    "plt.title('Histogram of Michigan Points Against')\n",
    "plt.show()"
   ]
  },
  {
   "cell_type": "code",
   "execution_count": 17,
   "id": "81565970",
   "metadata": {},
   "outputs": [
    {
     "data": {
      "image/png": "[encoded data removed]",
      "text/plain": [
       "<Figure size 432x288 with 1 Axes>"
      ]
     },
     "metadata": {
      "needs_background": "light"
     },
     "output_type": "display_data"
    }
   ],
   "source": [
    "# Basic Boxplot\n",
    "plt.clf()\n",
    "pass_att_df = df['pass attempts']\n",
    "plt.boxplot(pass_att_df)\n",
    "plt.ylabel('Passing Attempts')\n",
    "plt.title('Boxplot of Passing Attempts')\n",
    "plt.show()"
   ]
  },
  {
   "cell_type": "code",
   "execution_count": 18,
   "id": "8e349ebc",
   "metadata": {},
   "outputs": [
    {
     "data": {
      "image/png": "[encoded data removed]",
      "text/plain": [
       "<Figure size 432x288 with 1 Axes>"
      ]
     },
     "metadata": {
      "needs_background": "light"
     },
     "output_type": "display_data"
    }
   ],
   "source": [
    "# Side-by-Side Boxplot\n",
    "plt.clf()\n",
    "att_df = df[['pass attempts', 'rush attempts']]\n",
    "plt.boxplot(att_df, vert = False, labels = ['passing attempts', 'rushing attempts'])\n",
    "plt.xlabel('Play Attempts')\n",
    "plt.title('Side-by-Side Boxplot of Passing and Rushing Attempts')\n",
    "plt.show()"
   ]
  },
  {
   "cell_type": "code",
   "execution_count": null,
   "id": "e1474bd9",
   "metadata": {},
   "outputs": [],
   "source": []
  }
 ],
 "metadata": {
  "kernelspec": {
   "display_name": "Python 3 (ipykernel)",
   "language": "python",
   "name": "python3"
  },
  "language_info": {
   "codemirror_mode": {
    "name": "ipython",
    "version": 3
   },
   "file_extension": ".py",
   "mimetype": "text/x-python",
   "name": "python",
   "nbconvert_exporter": "python",
   "pygments_lexer": "ipython3",
   "version": "3.9.7"
  }
 },
 "nbformat": 4,
 "nbformat_minor": 5
}
