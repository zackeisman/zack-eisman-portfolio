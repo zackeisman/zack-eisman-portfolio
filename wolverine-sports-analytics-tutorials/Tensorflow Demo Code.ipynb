{
 "cells": [
  {
   "cell_type": "markdown",
   "id": "0a8f1efc",
   "metadata": {},
   "source": [
    "# Tensorflow Demo Code\n",
    "* Tensorflow is another machine-learning based python library that helps us create neural networks\n",
    "* Neural networks are an AI method ethat teaches computers to process data similar to a human brain\n"
   ]
  },
  {
   "cell_type": "markdown",
   "id": "49e69176",
   "metadata": {},
   "source": [
    "### Imports\n",
    "* Don't forget to run pip install tensorflow in your terminal first"
   ]
  },
  {
   "cell_type": "code",
   "execution_count": 1,
   "id": "dcd320e2",
   "metadata": {},
   "outputs": [],
   "source": [
    "import tensorflow as tf\n",
    "import pandas as pd\n",
    "import numpy as np"
   ]
  },
  {
   "cell_type": "markdown",
   "id": "b4e46880",
   "metadata": {},
   "source": [
    "### Getting Our Data"
   ]
  },
  {
   "cell_type": "code",
   "execution_count": 2,
   "id": "82e71cfa",
   "metadata": {},
   "outputs": [
    {
     "data": {
      "text/html": [
       "<div>\n",
       "<style scoped>\n",
       "    .dataframe tbody tr th:only-of-type {\n",
       "        vertical-align: middle;\n",
       "    }\n",
       "\n",
       "    .dataframe tbody tr th {\n",
       "        vertical-align: top;\n",
       "    }\n",
       "\n",
       "    .dataframe thead th {\n",
       "        text-align: right;\n",
       "    }\n",
       "</style>\n",
       "<table border=\"1\" class=\"dataframe\">\n",
       "  <thead>\n",
       "    <tr style=\"text-align: right;\">\n",
       "      <th></th>\n",
       "      <th>id</th>\n",
       "      <th>date</th>\n",
       "      <th>year</th>\n",
       "      <th>opponent</th>\n",
       "      <th>home_away</th>\n",
       "      <th>result</th>\n",
       "      <th>points_scored</th>\n",
       "      <th>points_against</th>\n",
       "      <th>pass_cmp</th>\n",
       "      <th>pass_att</th>\n",
       "      <th>...</th>\n",
       "      <th>pass_yrds</th>\n",
       "      <th>pass_td</th>\n",
       "      <th>pass_1st_down</th>\n",
       "      <th>rush_att</th>\n",
       "      <th>rush_yrds</th>\n",
       "      <th>rush_td</th>\n",
       "      <th>rush_1st_down</th>\n",
       "      <th>total_offense</th>\n",
       "      <th>fumbles</th>\n",
       "      <th>ints</th>\n",
       "    </tr>\n",
       "  </thead>\n",
       "  <tbody>\n",
       "    <tr>\n",
       "      <th>0</th>\n",
       "      <td>1</td>\n",
       "      <td>2011-09-03</td>\n",
       "      <td>2011</td>\n",
       "      <td>Western Michigan</td>\n",
       "      <td>Home</td>\n",
       "      <td>W</td>\n",
       "      <td>34</td>\n",
       "      <td>10</td>\n",
       "      <td>9</td>\n",
       "      <td>13</td>\n",
       "      <td>...</td>\n",
       "      <td>98</td>\n",
       "      <td>0</td>\n",
       "      <td>5</td>\n",
       "      <td>26</td>\n",
       "      <td>190</td>\n",
       "      <td>3</td>\n",
       "      <td>9</td>\n",
       "      <td>288</td>\n",
       "      <td>0</td>\n",
       "      <td>0</td>\n",
       "    </tr>\n",
       "    <tr>\n",
       "      <th>1</th>\n",
       "      <td>2</td>\n",
       "      <td>2011-09-10</td>\n",
       "      <td>2011</td>\n",
       "      <td>Notre Dame</td>\n",
       "      <td>Home</td>\n",
       "      <td>W</td>\n",
       "      <td>35</td>\n",
       "      <td>31</td>\n",
       "      <td>11</td>\n",
       "      <td>24</td>\n",
       "      <td>...</td>\n",
       "      <td>338</td>\n",
       "      <td>4</td>\n",
       "      <td>10</td>\n",
       "      <td>26</td>\n",
       "      <td>114</td>\n",
       "      <td>1</td>\n",
       "      <td>5</td>\n",
       "      <td>452</td>\n",
       "      <td>0</td>\n",
       "      <td>3</td>\n",
       "    </tr>\n",
       "    <tr>\n",
       "      <th>2</th>\n",
       "      <td>3</td>\n",
       "      <td>2011-09-17</td>\n",
       "      <td>2011</td>\n",
       "      <td>Eastern Michigan</td>\n",
       "      <td>Home</td>\n",
       "      <td>W</td>\n",
       "      <td>31</td>\n",
       "      <td>3</td>\n",
       "      <td>7</td>\n",
       "      <td>18</td>\n",
       "      <td>...</td>\n",
       "      <td>95</td>\n",
       "      <td>2</td>\n",
       "      <td>5</td>\n",
       "      <td>50</td>\n",
       "      <td>376</td>\n",
       "      <td>2</td>\n",
       "      <td>19</td>\n",
       "      <td>471</td>\n",
       "      <td>0</td>\n",
       "      <td>1</td>\n",
       "    </tr>\n",
       "    <tr>\n",
       "      <th>3</th>\n",
       "      <td>4</td>\n",
       "      <td>2011-09-24</td>\n",
       "      <td>2011</td>\n",
       "      <td>San Diego State</td>\n",
       "      <td>Home</td>\n",
       "      <td>W</td>\n",
       "      <td>28</td>\n",
       "      <td>7</td>\n",
       "      <td>8</td>\n",
       "      <td>17</td>\n",
       "      <td>...</td>\n",
       "      <td>93</td>\n",
       "      <td>0</td>\n",
       "      <td>3</td>\n",
       "      <td>45</td>\n",
       "      <td>320</td>\n",
       "      <td>4</td>\n",
       "      <td>14</td>\n",
       "      <td>413</td>\n",
       "      <td>2</td>\n",
       "      <td>2</td>\n",
       "    </tr>\n",
       "    <tr>\n",
       "      <th>4</th>\n",
       "      <td>5</td>\n",
       "      <td>2011-10-01</td>\n",
       "      <td>2011</td>\n",
       "      <td>Minnesota</td>\n",
       "      <td>Home</td>\n",
       "      <td>W</td>\n",
       "      <td>58</td>\n",
       "      <td>0</td>\n",
       "      <td>18</td>\n",
       "      <td>25</td>\n",
       "      <td>...</td>\n",
       "      <td>217</td>\n",
       "      <td>3</td>\n",
       "      <td>10</td>\n",
       "      <td>48</td>\n",
       "      <td>363</td>\n",
       "      <td>3</td>\n",
       "      <td>19</td>\n",
       "      <td>580</td>\n",
       "      <td>0</td>\n",
       "      <td>0</td>\n",
       "    </tr>\n",
       "  </tbody>\n",
       "</table>\n",
       "<p>5 rows × 21 columns</p>\n",
       "</div>"
      ],
      "text/plain": [
       "   id        date  year          opponent home_away result  points_scored  \\\n",
       "0   1  2011-09-03  2011  Western Michigan      Home      W             34   \n",
       "1   2  2011-09-10  2011        Notre Dame      Home      W             35   \n",
       "2   3  2011-09-17  2011  Eastern Michigan      Home      W             31   \n",
       "3   4  2011-09-24  2011   San Diego State      Home      W             28   \n",
       "4   5  2011-10-01  2011         Minnesota      Home      W             58   \n",
       "\n",
       "   points_against  pass_cmp  pass_att  ...  pass_yrds  pass_td  pass_1st_down  \\\n",
       "0              10         9        13  ...         98        0              5   \n",
       "1              31        11        24  ...        338        4             10   \n",
       "2               3         7        18  ...         95        2              5   \n",
       "3               7         8        17  ...         93        0              3   \n",
       "4               0        18        25  ...        217        3             10   \n",
       "\n",
       "   rush_att  rush_yrds  rush_td  rush_1st_down  total_offense  fumbles  ints  \n",
       "0        26        190        3              9            288        0     0  \n",
       "1        26        114        1              5            452        0     3  \n",
       "2        50        376        2             19            471        0     1  \n",
       "3        45        320        4             14            413        2     2  \n",
       "4        48        363        3             19            580        0     0  \n",
       "\n",
       "[5 rows x 21 columns]"
      ]
     },
     "execution_count": 2,
     "metadata": {},
     "output_type": "execute_result"
    }
   ],
   "source": [
    "df = pd.read_csv(\"Michigan_GameLogs_W24.csv\")\n",
    "df.head()"
   ]
  },
  {
   "cell_type": "code",
   "execution_count": 3,
   "id": "bbcfb807",
   "metadata": {},
   "outputs": [
    {
     "data": {
      "text/plain": [
       "Index(['id', 'date', 'year', 'opponent', 'home_away', 'result',\n",
       "       'points_scored', 'points_against', 'pass_cmp', 'pass_att', 'pass_pct',\n",
       "       'pass_yrds', 'pass_td', 'pass_1st_down', 'rush_att', 'rush_yrds',\n",
       "       'rush_td', 'rush_1st_down', 'total_offense', 'fumbles', 'ints'],\n",
       "      dtype='object')"
      ]
     },
     "execution_count": 3,
     "metadata": {},
     "output_type": "execute_result"
    }
   ],
   "source": [
    "df.columns"
   ]
  },
  {
   "cell_type": "code",
   "execution_count": 4,
   "id": "35db722b",
   "metadata": {},
   "outputs": [
    {
     "data": {
      "text/html": [
       "<div>\n",
       "<style scoped>\n",
       "    .dataframe tbody tr th:only-of-type {\n",
       "        vertical-align: middle;\n",
       "    }\n",
       "\n",
       "    .dataframe tbody tr th {\n",
       "        vertical-align: top;\n",
       "    }\n",
       "\n",
       "    .dataframe thead th {\n",
       "        text-align: right;\n",
       "    }\n",
       "</style>\n",
       "<table border=\"1\" class=\"dataframe\">\n",
       "  <thead>\n",
       "    <tr style=\"text-align: right;\">\n",
       "      <th></th>\n",
       "      <th>points_scored</th>\n",
       "      <th>points_against</th>\n",
       "      <th>pass_cmp</th>\n",
       "      <th>pass_att</th>\n",
       "      <th>pass_pct</th>\n",
       "      <th>pass_yrds</th>\n",
       "      <th>pass_td</th>\n",
       "      <th>pass_1st_down</th>\n",
       "      <th>rush_att</th>\n",
       "      <th>rush_yrds</th>\n",
       "      <th>rush_td</th>\n",
       "      <th>rush_1st_down</th>\n",
       "      <th>total_offense</th>\n",
       "      <th>fumbles</th>\n",
       "      <th>ints</th>\n",
       "    </tr>\n",
       "  </thead>\n",
       "  <tbody>\n",
       "    <tr>\n",
       "      <th>0</th>\n",
       "      <td>34</td>\n",
       "      <td>10</td>\n",
       "      <td>9</td>\n",
       "      <td>13</td>\n",
       "      <td>69.2</td>\n",
       "      <td>98</td>\n",
       "      <td>0</td>\n",
       "      <td>5</td>\n",
       "      <td>26</td>\n",
       "      <td>190</td>\n",
       "      <td>3</td>\n",
       "      <td>9</td>\n",
       "      <td>288</td>\n",
       "      <td>0</td>\n",
       "      <td>0</td>\n",
       "    </tr>\n",
       "    <tr>\n",
       "      <th>1</th>\n",
       "      <td>35</td>\n",
       "      <td>31</td>\n",
       "      <td>11</td>\n",
       "      <td>24</td>\n",
       "      <td>45.8</td>\n",
       "      <td>338</td>\n",
       "      <td>4</td>\n",
       "      <td>10</td>\n",
       "      <td>26</td>\n",
       "      <td>114</td>\n",
       "      <td>1</td>\n",
       "      <td>5</td>\n",
       "      <td>452</td>\n",
       "      <td>0</td>\n",
       "      <td>3</td>\n",
       "    </tr>\n",
       "    <tr>\n",
       "      <th>2</th>\n",
       "      <td>31</td>\n",
       "      <td>3</td>\n",
       "      <td>7</td>\n",
       "      <td>18</td>\n",
       "      <td>38.9</td>\n",
       "      <td>95</td>\n",
       "      <td>2</td>\n",
       "      <td>5</td>\n",
       "      <td>50</td>\n",
       "      <td>376</td>\n",
       "      <td>2</td>\n",
       "      <td>19</td>\n",
       "      <td>471</td>\n",
       "      <td>0</td>\n",
       "      <td>1</td>\n",
       "    </tr>\n",
       "    <tr>\n",
       "      <th>3</th>\n",
       "      <td>28</td>\n",
       "      <td>7</td>\n",
       "      <td>8</td>\n",
       "      <td>17</td>\n",
       "      <td>47.1</td>\n",
       "      <td>93</td>\n",
       "      <td>0</td>\n",
       "      <td>3</td>\n",
       "      <td>45</td>\n",
       "      <td>320</td>\n",
       "      <td>4</td>\n",
       "      <td>14</td>\n",
       "      <td>413</td>\n",
       "      <td>2</td>\n",
       "      <td>2</td>\n",
       "    </tr>\n",
       "    <tr>\n",
       "      <th>4</th>\n",
       "      <td>58</td>\n",
       "      <td>0</td>\n",
       "      <td>18</td>\n",
       "      <td>25</td>\n",
       "      <td>72.0</td>\n",
       "      <td>217</td>\n",
       "      <td>3</td>\n",
       "      <td>10</td>\n",
       "      <td>48</td>\n",
       "      <td>363</td>\n",
       "      <td>3</td>\n",
       "      <td>19</td>\n",
       "      <td>580</td>\n",
       "      <td>0</td>\n",
       "      <td>0</td>\n",
       "    </tr>\n",
       "    <tr>\n",
       "      <th>...</th>\n",
       "      <td>...</td>\n",
       "      <td>...</td>\n",
       "      <td>...</td>\n",
       "      <td>...</td>\n",
       "      <td>...</td>\n",
       "      <td>...</td>\n",
       "      <td>...</td>\n",
       "      <td>...</td>\n",
       "      <td>...</td>\n",
       "      <td>...</td>\n",
       "      <td>...</td>\n",
       "      <td>...</td>\n",
       "      <td>...</td>\n",
       "      <td>...</td>\n",
       "      <td>...</td>\n",
       "    </tr>\n",
       "    <tr>\n",
       "      <th>160</th>\n",
       "      <td>31</td>\n",
       "      <td>24</td>\n",
       "      <td>12</td>\n",
       "      <td>23</td>\n",
       "      <td>52.2</td>\n",
       "      <td>141</td>\n",
       "      <td>0</td>\n",
       "      <td>9</td>\n",
       "      <td>45</td>\n",
       "      <td>150</td>\n",
       "      <td>3</td>\n",
       "      <td>9</td>\n",
       "      <td>291</td>\n",
       "      <td>0</td>\n",
       "      <td>1</td>\n",
       "    </tr>\n",
       "    <tr>\n",
       "      <th>161</th>\n",
       "      <td>30</td>\n",
       "      <td>24</td>\n",
       "      <td>17</td>\n",
       "      <td>21</td>\n",
       "      <td>81.0</td>\n",
       "      <td>182</td>\n",
       "      <td>1</td>\n",
       "      <td>10</td>\n",
       "      <td>39</td>\n",
       "      <td>156</td>\n",
       "      <td>2</td>\n",
       "      <td>8</td>\n",
       "      <td>338</td>\n",
       "      <td>0</td>\n",
       "      <td>0</td>\n",
       "    </tr>\n",
       "    <tr>\n",
       "      <th>162</th>\n",
       "      <td>26</td>\n",
       "      <td>0</td>\n",
       "      <td>22</td>\n",
       "      <td>30</td>\n",
       "      <td>73.3</td>\n",
       "      <td>147</td>\n",
       "      <td>0</td>\n",
       "      <td>9</td>\n",
       "      <td>34</td>\n",
       "      <td>66</td>\n",
       "      <td>2</td>\n",
       "      <td>3</td>\n",
       "      <td>213</td>\n",
       "      <td>0</td>\n",
       "      <td>0</td>\n",
       "    </tr>\n",
       "    <tr>\n",
       "      <th>163</th>\n",
       "      <td>27</td>\n",
       "      <td>20</td>\n",
       "      <td>17</td>\n",
       "      <td>27</td>\n",
       "      <td>63.0</td>\n",
       "      <td>221</td>\n",
       "      <td>3</td>\n",
       "      <td>10</td>\n",
       "      <td>32</td>\n",
       "      <td>130</td>\n",
       "      <td>1</td>\n",
       "      <td>5</td>\n",
       "      <td>351</td>\n",
       "      <td>1</td>\n",
       "      <td>0</td>\n",
       "    </tr>\n",
       "    <tr>\n",
       "      <th>164</th>\n",
       "      <td>34</td>\n",
       "      <td>13</td>\n",
       "      <td>10</td>\n",
       "      <td>19</td>\n",
       "      <td>52.6</td>\n",
       "      <td>140</td>\n",
       "      <td>0</td>\n",
       "      <td>6</td>\n",
       "      <td>38</td>\n",
       "      <td>303</td>\n",
       "      <td>4</td>\n",
       "      <td>10</td>\n",
       "      <td>443</td>\n",
       "      <td>0</td>\n",
       "      <td>0</td>\n",
       "    </tr>\n",
       "  </tbody>\n",
       "</table>\n",
       "<p>165 rows × 15 columns</p>\n",
       "</div>"
      ],
      "text/plain": [
       "     points_scored  points_against  pass_cmp  pass_att  pass_pct  pass_yrds  \\\n",
       "0               34              10         9        13      69.2         98   \n",
       "1               35              31        11        24      45.8        338   \n",
       "2               31               3         7        18      38.9         95   \n",
       "3               28               7         8        17      47.1         93   \n",
       "4               58               0        18        25      72.0        217   \n",
       "..             ...             ...       ...       ...       ...        ...   \n",
       "160             31              24        12        23      52.2        141   \n",
       "161             30              24        17        21      81.0        182   \n",
       "162             26               0        22        30      73.3        147   \n",
       "163             27              20        17        27      63.0        221   \n",
       "164             34              13        10        19      52.6        140   \n",
       "\n",
       "     pass_td  pass_1st_down  rush_att  rush_yrds  rush_td  rush_1st_down  \\\n",
       "0          0              5        26        190        3              9   \n",
       "1          4             10        26        114        1              5   \n",
       "2          2              5        50        376        2             19   \n",
       "3          0              3        45        320        4             14   \n",
       "4          3             10        48        363        3             19   \n",
       "..       ...            ...       ...        ...      ...            ...   \n",
       "160        0              9        45        150        3              9   \n",
       "161        1             10        39        156        2              8   \n",
       "162        0              9        34         66        2              3   \n",
       "163        3             10        32        130        1              5   \n",
       "164        0              6        38        303        4             10   \n",
       "\n",
       "     total_offense  fumbles  ints  \n",
       "0              288        0     0  \n",
       "1              452        0     3  \n",
       "2              471        0     1  \n",
       "3              413        2     2  \n",
       "4              580        0     0  \n",
       "..             ...      ...   ...  \n",
       "160            291        0     1  \n",
       "161            338        0     0  \n",
       "162            213        0     0  \n",
       "163            351        1     0  \n",
       "164            443        0     0  \n",
       "\n",
       "[165 rows x 15 columns]"
      ]
     },
     "execution_count": 4,
     "metadata": {},
     "output_type": "execute_result"
    }
   ],
   "source": [
    "df_parsed = df[[\"points_scored\", \"points_against\", \"pass_cmp\", \"pass_att\", \"pass_pct\", \"pass_yrds\", \"pass_td\", \"pass_1st_down\",\n",
    "                \"rush_att\", \"rush_yrds\", \"rush_td\", \"rush_1st_down\", \"total_offense\", \"fumbles\", \"ints\"]]\n",
    "df_parsed"
   ]
  },
  {
   "cell_type": "markdown",
   "id": "5d228a55",
   "metadata": {},
   "source": [
    "### Splitting our Data into Training and Testing"
   ]
  },
  {
   "cell_type": "code",
   "execution_count": 5,
   "id": "dda5c8d0",
   "metadata": {},
   "outputs": [],
   "source": [
    "#selecting 75% of data for training data\n",
    "train_df = df_parsed.sample(frac = 0.75, random_state = 4)\n",
    "\n",
    "#drops training data from the original dataframe, the other 25% is validation/test data\n",
    "test_df = df_parsed.drop(train_df.index)"
   ]
  },
  {
   "cell_type": "code",
   "execution_count": null,
   "id": "e4b1c900",
   "metadata": {},
   "outputs": [],
   "source": [
    "#scaling our data bc NNs perform better on data in same range\n",
    "# calling to the (0,1) range\n",
    "max_val = train_df.max(axis = 0)\n",
    "min_val = train_df.min(axis = 0)\n",
    "\n",
    "our_range = max_val - min_val\n",
    "train_df = (train_df - min_val) / our_range\n",
    "test_df = (test_df - min_val) / our_range"
   ]
  },
  {
   "cell_type": "markdown",
   "id": "54fd4d57",
   "metadata": {},
   "source": [
    "### Seperate our Data into Targets and Labels"
   ]
  },
  {
   "cell_type": "code",
   "execution_count": 6,
   "id": "373625d8",
   "metadata": {},
   "outputs": [
    {
     "data": {
      "text/plain": [
       "[14]"
      ]
     },
     "execution_count": 6,
     "metadata": {},
     "output_type": "execute_result"
    }
   ],
   "source": [
    "# Our model is looking for targets and labels so we need to separate our data into such categories\n",
    "# In this case, we want points scored to be the target (output) and rest of columns are labels (inputs for model)\n",
    "y_train = train_df['points_scored'] #target\n",
    "y_test = test_df['points_scored']\n",
    "\n",
    "X_train = train_df.drop('points_scored', axis = 1) #labels\n",
    "X_test = test_df.drop('points_scored', axis = 1)\n",
    "\n",
    "#format the features/inputs as an arugment for model by shaping it accordingly\n",
    "input_shape = [X_train.shape[1]]\n",
    "input_shape\n",
    "#[14] denotes that we are passing 14 features as an input to our first layer of NN"
   ]
  },
  {
   "cell_type": "markdown",
   "id": "b625401f",
   "metadata": {},
   "source": [
    "### Building our Model using Keras and Adam Optimizer\n",
    "* To build our model, we are going to use the built-in Keras library model within Tensorflow and specifically its 'Sequential' method. This method is very good for multilayered Nueral Networks, which is what we are doing.\n",
    "* We will create a 3 layer network (1 input layer, 1 hidden layer, and 1 output layer)\n",
    "* The input and hidden layers will have 64 units/node\n",
    "* Our layers will Dense layers (there are different types, feel free to research more)\n",
    "* Activation functions are used to introduce non-linearity to NNs. We will use one called reLu (Rectified Linear Unit) which changes the output of the node in non-negative values"
   ]
  },
  {
   "cell_type": "code",
   "execution_count": 7,
   "id": "9c343a2d",
   "metadata": {},
   "outputs": [
    {
     "name": "stdout",
     "output_type": "stream",
     "text": [
      "Model: \"sequential\"\n",
      "_________________________________________________________________\n",
      " Layer (type)                Output Shape              Param #   \n",
      "=================================================================\n",
      " dense (Dense)               (None, 64)                960       \n",
      "                                                                 \n",
      " dense_1 (Dense)             (None, 64)                4160      \n",
      "                                                                 \n",
      " dense_2 (Dense)             (None, 1)                 65        \n",
      "                                                                 \n",
      "=================================================================\n",
      "Total params: 5,185\n",
      "Trainable params: 5,185\n",
      "Non-trainable params: 0\n",
      "_________________________________________________________________\n"
     ]
    }
   ],
   "source": [
    "model = tf.keras.Sequential([\n",
    "    tf.keras.layers.Dense(units = 64, activation = 'relu', input_shape = input_shape),\n",
    "    tf.keras.layers.Dense(units = 64, activation = 'relu'),\n",
    "    tf.keras.layers.Dense(units = 1)\n",
    "])\n",
    "model.summary()"
   ]
  },
  {
   "cell_type": "code",
   "execution_count": 17,
   "id": "ab72c274",
   "metadata": {},
   "outputs": [],
   "source": [
    "# we will use Adam optimizer, and the MAE (mean absolute error) for loss\n",
    "# Adam optimizer is an algorithm that uses stochastic gradient descent\n",
    "# loss is measure of how bad the model's prediction was\n",
    "\n",
    "model.compile(optimizer = 'adam', loss = 'mae')"
   ]
  },
  {
   "cell_type": "markdown",
   "id": "ff38cf24",
   "metadata": {},
   "source": [
    "### Training our Model in Batches\n",
    "* Our model is trained by feeding it batches through an epoch (an iteration in NN). This is helpful for digesting large amounts of data\n",
    "* This specific data set is small but others are significantly larger.\n",
    "* Batch size refers to breaking our total training data into smaller groups and feeding it into the model"
   ]
  },
  {
   "cell_type": "code",
   "execution_count": 18,
   "id": "a710ed80",
   "metadata": {},
   "outputs": [
    {
     "name": "stdout",
     "output_type": "stream",
     "text": [
      "Epoch 1/15\n",
      "1/1 [==============================] - 2s 2s/step - loss: 7.7657 - val_loss: 17.2097\n",
      "Epoch 2/15\n",
      "1/1 [==============================] - 0s 68ms/step - loss: 18.0801 - val_loss: 9.4632\n",
      "Epoch 3/15\n",
      "1/1 [==============================] - 0s 77ms/step - loss: 8.9000 - val_loss: 9.6564\n",
      "Epoch 4/15\n",
      "1/1 [==============================] - 0s 78ms/step - loss: 10.2817 - val_loss: 13.5351\n",
      "Epoch 5/15\n",
      "1/1 [==============================] - 0s 80ms/step - loss: 14.0407 - val_loss: 11.5060\n",
      "Epoch 6/15\n",
      "1/1 [==============================] - 0s 76ms/step - loss: 12.0301 - val_loss: 7.8219\n",
      "Epoch 7/15\n",
      "1/1 [==============================] - 0s 75ms/step - loss: 8.5956 - val_loss: 8.2992\n",
      "Epoch 8/15\n",
      "1/1 [==============================] - 0s 76ms/step - loss: 7.7702 - val_loss: 10.3376\n",
      "Epoch 9/15\n",
      "1/1 [==============================] - 0s 73ms/step - loss: 10.0640 - val_loss: 10.9409\n",
      "Epoch 10/15\n",
      "1/1 [==============================] - 0s 83ms/step - loss: 10.8846 - val_loss: 9.8839\n",
      "Epoch 11/15\n",
      "1/1 [==============================] - 0s 88ms/step - loss: 9.4910 - val_loss: 8.2653\n",
      "Epoch 12/15\n",
      "1/1 [==============================] - 0s 74ms/step - loss: 7.7536 - val_loss: 7.5549\n",
      "Epoch 13/15\n",
      "1/1 [==============================] - 0s 75ms/step - loss: 7.7545 - val_loss: 7.8633\n",
      "Epoch 14/15\n",
      "1/1 [==============================] - 0s 76ms/step - loss: 8.6913 - val_loss: 8.3471\n",
      "Epoch 15/15\n",
      "1/1 [==============================] - 0s 84ms/step - loss: 9.2192 - val_loss: 7.9730\n"
     ]
    }
   ],
   "source": [
    "losses = model.fit(X_train, y_train, validation_data = (X_test, y_test), batch_size = 256, epochs = 15)"
   ]
  },
  {
   "cell_type": "markdown",
   "id": "4866d985",
   "metadata": {},
   "source": [
    "### Compare Predictions to Actual Results\n"
   ]
  },
  {
   "cell_type": "code",
   "execution_count": 19,
   "id": "fa7a0704",
   "metadata": {},
   "outputs": [
    {
     "name": "stdout",
     "output_type": "stream",
     "text": [
      "1/1 [==============================] - 0s 134ms/step\n"
     ]
    },
    {
     "data": {
      "text/plain": [
       "array([[27.941933],\n",
       "       [42.484306],\n",
       "       [36.17542 ]], dtype=float32)"
      ]
     },
     "execution_count": 19,
     "metadata": {},
     "output_type": "execute_result"
    }
   ],
   "source": [
    "# let's say we want to pass the first 3 rows of features of our data to make predictions\n",
    "# [0:3] indicates first 3 rows, : indicates all of the columns\n",
    "model.predict(X_test.iloc[0:3, :])"
   ]
  },
  {
   "cell_type": "code",
   "execution_count": 20,
   "id": "add4f69c",
   "metadata": {},
   "outputs": [
    {
     "data": {
      "text/plain": [
       "0     34\n",
       "3     28\n",
       "21    35\n",
       "Name: points_scored, dtype: int64"
      ]
     },
     "execution_count": 20,
     "metadata": {},
     "output_type": "execute_result"
    }
   ],
   "source": [
    "# we can compare it with what we actially have\n",
    "y_test.iloc[0:3]"
   ]
  },
  {
   "cell_type": "markdown",
   "id": "0f7492ec",
   "metadata": {},
   "source": [
    "### Training vs Validation Loss Line Graph"
   ]
  },
  {
   "cell_type": "code",
   "execution_count": 12,
   "id": "892997d0",
   "metadata": {},
   "outputs": [
    {
     "data": {
      "text/plain": [
       "<AxesSubplot:>"
      ]
     },
     "execution_count": 12,
     "metadata": {},
     "output_type": "execute_result"
    },
    {
     "data": {
      "image/png": "[encoded data removed]",
      "text/plain": [
       "<Figure size 432x288 with 1 Axes>"
      ]
     },
     "metadata": {
      "needs_background": "light"
     },
     "output_type": "display_data"
    }
   ],
   "source": [
    "# we can analyze our training vs validation loss to see if our model is overfitting the data\n",
    "\n",
    "# to do this, we will create a dataframe of all of our losses\n",
    "# .history store the training loss and validation in each epoch\n",
    "loss_df = pd.DataFrame(losses.history)\n",
    "\n",
    "# plot this loss to visualize our model training\n",
    "loss_df.loc[:, ['loss', 'val_loss']].plot()"
   ]
  },
  {
   "cell_type": "markdown",
   "id": "dee53ec7",
   "metadata": {},
   "source": [
    "### Further Exploration\n",
    "* Just like all of the other libraries we use, there is a lot more that you can do that what I have shown so feel free to play around with it and discover new things\n",
    "* There is another short demo file on tensorflow in the Supplemental Materials section of Google Classroom that you can check out if you want to learn more about this library"
   ]
  },
  {
   "cell_type": "code",
   "execution_count": null,
   "id": "a77cbd6b",
   "metadata": {},
   "outputs": [],
   "source": []
  }
 ],
 "metadata": {
  "kernelspec": {
   "display_name": "Python 3 (ipykernel)",
   "language": "python",
   "name": "python3"
  },
  "language_info": {
   "codemirror_mode": {
    "name": "ipython",
    "version": 3
   },
   "file_extension": ".py",
   "mimetype": "text/x-python",
   "name": "python",
   "nbconvert_exporter": "python",
   "pygments_lexer": "ipython3",
   "version": "3.9.7"
  }
 },
 "nbformat": 4,
 "nbformat_minor": 5
}
