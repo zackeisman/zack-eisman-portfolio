{
 "cells": [
  {
   "cell_type": "markdown",
   "id": "5dec96dc",
   "metadata": {},
   "source": [
    "## Scikit-Learn Demo"
   ]
  },
  {
   "cell_type": "markdown",
   "id": "dc55484d",
   "metadata": {},
   "source": [
    "* scikit learn is another data analysis library that helps us fit our models, preprocess data, as well as choose and evaluate models\n",
    "\n",
    "* This demo will specifically focus on regression modeling. This is very important when making predictions based on weights"
   ]
  },
  {
   "cell_type": "markdown",
   "id": "03726c76",
   "metadata": {},
   "source": [
    "### Imports"
   ]
  },
  {
   "cell_type": "code",
   "execution_count": 1,
   "id": "a35ae5df",
   "metadata": {},
   "outputs": [],
   "source": [
    "import numpy as np\n",
    "import pandas as pd\n",
    "import matplotlib.pyplot as plt\n",
    "from sklearn import preprocessing, svm\n",
    "from sklearn.model_selection import train_test_split\n",
    "from sklearn.linear_model import LinearRegression\n",
    "from sklearn.preprocessing import PolynomialFeatures\n",
    "from sklearn.metrics import mean_absolute_error, mean_squared_error"
   ]
  },
  {
   "cell_type": "markdown",
   "id": "ae799a52",
   "metadata": {},
   "source": [
    "### Creating Bindary DF and Cleaning/Preprocessing Data"
   ]
  },
  {
   "cell_type": "code",
   "execution_count": 2,
   "id": "93339d0d",
   "metadata": {},
   "outputs": [
    {
     "data": {
      "text/html": [
       "<div>\n",
       "<style scoped>\n",
       "    .dataframe tbody tr th:only-of-type {\n",
       "        vertical-align: middle;\n",
       "    }\n",
       "\n",
       "    .dataframe tbody tr th {\n",
       "        vertical-align: top;\n",
       "    }\n",
       "\n",
       "    .dataframe thead th {\n",
       "        text-align: right;\n",
       "    }\n",
       "</style>\n",
       "<table border=\"1\" class=\"dataframe\">\n",
       "  <thead>\n",
       "    <tr style=\"text-align: right;\">\n",
       "      <th></th>\n",
       "      <th>id</th>\n",
       "      <th>date</th>\n",
       "      <th>year</th>\n",
       "      <th>opponent</th>\n",
       "      <th>home_away</th>\n",
       "      <th>result</th>\n",
       "      <th>points_scored</th>\n",
       "      <th>points_against</th>\n",
       "      <th>pass_cmp</th>\n",
       "      <th>pass_att</th>\n",
       "      <th>...</th>\n",
       "      <th>pass_yrds</th>\n",
       "      <th>pass_td</th>\n",
       "      <th>pass_1st_down</th>\n",
       "      <th>rush_att</th>\n",
       "      <th>rush_yrds</th>\n",
       "      <th>rush_td</th>\n",
       "      <th>rush_1st_down</th>\n",
       "      <th>total_offense</th>\n",
       "      <th>fumbles</th>\n",
       "      <th>ints</th>\n",
       "    </tr>\n",
       "  </thead>\n",
       "  <tbody>\n",
       "    <tr>\n",
       "      <th>0</th>\n",
       "      <td>1</td>\n",
       "      <td>2011-09-03</td>\n",
       "      <td>2011</td>\n",
       "      <td>Western Michigan</td>\n",
       "      <td>Home</td>\n",
       "      <td>W</td>\n",
       "      <td>34</td>\n",
       "      <td>10</td>\n",
       "      <td>9</td>\n",
       "      <td>13</td>\n",
       "      <td>...</td>\n",
       "      <td>98</td>\n",
       "      <td>0</td>\n",
       "      <td>5</td>\n",
       "      <td>26</td>\n",
       "      <td>190</td>\n",
       "      <td>3</td>\n",
       "      <td>9</td>\n",
       "      <td>288</td>\n",
       "      <td>0</td>\n",
       "      <td>0</td>\n",
       "    </tr>\n",
       "    <tr>\n",
       "      <th>1</th>\n",
       "      <td>2</td>\n",
       "      <td>2011-09-10</td>\n",
       "      <td>2011</td>\n",
       "      <td>Notre Dame</td>\n",
       "      <td>Home</td>\n",
       "      <td>W</td>\n",
       "      <td>35</td>\n",
       "      <td>31</td>\n",
       "      <td>11</td>\n",
       "      <td>24</td>\n",
       "      <td>...</td>\n",
       "      <td>338</td>\n",
       "      <td>4</td>\n",
       "      <td>10</td>\n",
       "      <td>26</td>\n",
       "      <td>114</td>\n",
       "      <td>1</td>\n",
       "      <td>5</td>\n",
       "      <td>452</td>\n",
       "      <td>0</td>\n",
       "      <td>3</td>\n",
       "    </tr>\n",
       "    <tr>\n",
       "      <th>2</th>\n",
       "      <td>3</td>\n",
       "      <td>2011-09-17</td>\n",
       "      <td>2011</td>\n",
       "      <td>Eastern Michigan</td>\n",
       "      <td>Home</td>\n",
       "      <td>W</td>\n",
       "      <td>31</td>\n",
       "      <td>3</td>\n",
       "      <td>7</td>\n",
       "      <td>18</td>\n",
       "      <td>...</td>\n",
       "      <td>95</td>\n",
       "      <td>2</td>\n",
       "      <td>5</td>\n",
       "      <td>50</td>\n",
       "      <td>376</td>\n",
       "      <td>2</td>\n",
       "      <td>19</td>\n",
       "      <td>471</td>\n",
       "      <td>0</td>\n",
       "      <td>1</td>\n",
       "    </tr>\n",
       "    <tr>\n",
       "      <th>3</th>\n",
       "      <td>4</td>\n",
       "      <td>2011-09-24</td>\n",
       "      <td>2011</td>\n",
       "      <td>San Diego State</td>\n",
       "      <td>Home</td>\n",
       "      <td>W</td>\n",
       "      <td>28</td>\n",
       "      <td>7</td>\n",
       "      <td>8</td>\n",
       "      <td>17</td>\n",
       "      <td>...</td>\n",
       "      <td>93</td>\n",
       "      <td>0</td>\n",
       "      <td>3</td>\n",
       "      <td>45</td>\n",
       "      <td>320</td>\n",
       "      <td>4</td>\n",
       "      <td>14</td>\n",
       "      <td>413</td>\n",
       "      <td>2</td>\n",
       "      <td>2</td>\n",
       "    </tr>\n",
       "    <tr>\n",
       "      <th>4</th>\n",
       "      <td>5</td>\n",
       "      <td>2011-10-01</td>\n",
       "      <td>2011</td>\n",
       "      <td>Minnesota</td>\n",
       "      <td>Home</td>\n",
       "      <td>W</td>\n",
       "      <td>58</td>\n",
       "      <td>0</td>\n",
       "      <td>18</td>\n",
       "      <td>25</td>\n",
       "      <td>...</td>\n",
       "      <td>217</td>\n",
       "      <td>3</td>\n",
       "      <td>10</td>\n",
       "      <td>48</td>\n",
       "      <td>363</td>\n",
       "      <td>3</td>\n",
       "      <td>19</td>\n",
       "      <td>580</td>\n",
       "      <td>0</td>\n",
       "      <td>0</td>\n",
       "    </tr>\n",
       "  </tbody>\n",
       "</table>\n",
       "<p>5 rows × 21 columns</p>\n",
       "</div>"
      ],
      "text/plain": [
       "   id        date  year          opponent home_away result  points_scored  \\\n",
       "0   1  2011-09-03  2011  Western Michigan      Home      W             34   \n",
       "1   2  2011-09-10  2011        Notre Dame      Home      W             35   \n",
       "2   3  2011-09-17  2011  Eastern Michigan      Home      W             31   \n",
       "3   4  2011-09-24  2011   San Diego State      Home      W             28   \n",
       "4   5  2011-10-01  2011         Minnesota      Home      W             58   \n",
       "\n",
       "   points_against  pass_cmp  pass_att  ...  pass_yrds  pass_td  pass_1st_down  \\\n",
       "0              10         9        13  ...         98        0              5   \n",
       "1              31        11        24  ...        338        4             10   \n",
       "2               3         7        18  ...         95        2              5   \n",
       "3               7         8        17  ...         93        0              3   \n",
       "4               0        18        25  ...        217        3             10   \n",
       "\n",
       "   rush_att  rush_yrds  rush_td  rush_1st_down  total_offense  fumbles  ints  \n",
       "0        26        190        3              9            288        0     0  \n",
       "1        26        114        1              5            452        0     3  \n",
       "2        50        376        2             19            471        0     1  \n",
       "3        45        320        4             14            413        2     2  \n",
       "4        48        363        3             19            580        0     0  \n",
       "\n",
       "[5 rows x 21 columns]"
      ]
     },
     "execution_count": 2,
     "metadata": {},
     "output_type": "execute_result"
    }
   ],
   "source": [
    "df = pd.read_csv(\"Michigan_GameLogs_W24.csv\")\n",
    "df.head()"
   ]
  },
  {
   "cell_type": "code",
   "execution_count": 3,
   "id": "476c0ae2",
   "metadata": {},
   "outputs": [
    {
     "data": {
      "text/html": [
       "<div>\n",
       "<style scoped>\n",
       "    .dataframe tbody tr th:only-of-type {\n",
       "        vertical-align: middle;\n",
       "    }\n",
       "\n",
       "    .dataframe tbody tr th {\n",
       "        vertical-align: top;\n",
       "    }\n",
       "\n",
       "    .dataframe thead th {\n",
       "        text-align: right;\n",
       "    }\n",
       "</style>\n",
       "<table border=\"1\" class=\"dataframe\">\n",
       "  <thead>\n",
       "    <tr style=\"text-align: right;\">\n",
       "      <th></th>\n",
       "      <th>total_offense</th>\n",
       "      <th>points_scored</th>\n",
       "    </tr>\n",
       "  </thead>\n",
       "  <tbody>\n",
       "    <tr>\n",
       "      <th>0</th>\n",
       "      <td>288</td>\n",
       "      <td>34</td>\n",
       "    </tr>\n",
       "    <tr>\n",
       "      <th>1</th>\n",
       "      <td>452</td>\n",
       "      <td>35</td>\n",
       "    </tr>\n",
       "    <tr>\n",
       "      <th>2</th>\n",
       "      <td>471</td>\n",
       "      <td>31</td>\n",
       "    </tr>\n",
       "    <tr>\n",
       "      <th>3</th>\n",
       "      <td>413</td>\n",
       "      <td>28</td>\n",
       "    </tr>\n",
       "    <tr>\n",
       "      <th>4</th>\n",
       "      <td>580</td>\n",
       "      <td>58</td>\n",
       "    </tr>\n",
       "    <tr>\n",
       "      <th>...</th>\n",
       "      <td>...</td>\n",
       "      <td>...</td>\n",
       "    </tr>\n",
       "    <tr>\n",
       "      <th>160</th>\n",
       "      <td>291</td>\n",
       "      <td>31</td>\n",
       "    </tr>\n",
       "    <tr>\n",
       "      <th>161</th>\n",
       "      <td>338</td>\n",
       "      <td>30</td>\n",
       "    </tr>\n",
       "    <tr>\n",
       "      <th>162</th>\n",
       "      <td>213</td>\n",
       "      <td>26</td>\n",
       "    </tr>\n",
       "    <tr>\n",
       "      <th>163</th>\n",
       "      <td>351</td>\n",
       "      <td>27</td>\n",
       "    </tr>\n",
       "    <tr>\n",
       "      <th>164</th>\n",
       "      <td>443</td>\n",
       "      <td>34</td>\n",
       "    </tr>\n",
       "  </tbody>\n",
       "</table>\n",
       "<p>165 rows × 2 columns</p>\n",
       "</div>"
      ],
      "text/plain": [
       "     total_offense  points_scored\n",
       "0              288             34\n",
       "1              452             35\n",
       "2              471             31\n",
       "3              413             28\n",
       "4              580             58\n",
       "..             ...            ...\n",
       "160            291             31\n",
       "161            338             30\n",
       "162            213             26\n",
       "163            351             27\n",
       "164            443             34\n",
       "\n",
       "[165 rows x 2 columns]"
      ]
     },
     "execution_count": 3,
     "metadata": {},
     "output_type": "execute_result"
    }
   ],
   "source": [
    "# linear regression analyzes the realtionship of two variables (x and y). This binary df extracts only our x and y data\n",
    "df_binary = df[['total_offense', 'points_scored']]\n",
    "df_binary"
   ]
  },
  {
   "cell_type": "code",
   "execution_count": 4,
   "id": "cf0a14de",
   "metadata": {},
   "outputs": [
    {
     "data": {
      "text/plain": [
       "total_offense    0\n",
       "points_scored    0\n",
       "dtype: int64"
      ]
     },
     "execution_count": 4,
     "metadata": {},
     "output_type": "execute_result"
    }
   ],
   "source": [
    "#clean and preprocess data\n",
    "df_binary.isnull().sum()"
   ]
  },
  {
   "cell_type": "code",
   "execution_count": 5,
   "id": "f9cbdc26",
   "metadata": {},
   "outputs": [
    {
     "data": {
      "text/html": [
       "<div>\n",
       "<style scoped>\n",
       "    .dataframe tbody tr th:only-of-type {\n",
       "        vertical-align: middle;\n",
       "    }\n",
       "\n",
       "    .dataframe tbody tr th {\n",
       "        vertical-align: top;\n",
       "    }\n",
       "\n",
       "    .dataframe thead th {\n",
       "        text-align: right;\n",
       "    }\n",
       "</style>\n",
       "<table border=\"1\" class=\"dataframe\">\n",
       "  <thead>\n",
       "    <tr style=\"text-align: right;\">\n",
       "      <th></th>\n",
       "      <th>total_offense</th>\n",
       "      <th>points_scored</th>\n",
       "    </tr>\n",
       "  </thead>\n",
       "  <tbody>\n",
       "    <tr>\n",
       "      <th>0</th>\n",
       "      <td>288</td>\n",
       "      <td>34</td>\n",
       "    </tr>\n",
       "    <tr>\n",
       "      <th>1</th>\n",
       "      <td>452</td>\n",
       "      <td>35</td>\n",
       "    </tr>\n",
       "    <tr>\n",
       "      <th>2</th>\n",
       "      <td>471</td>\n",
       "      <td>31</td>\n",
       "    </tr>\n",
       "    <tr>\n",
       "      <th>3</th>\n",
       "      <td>413</td>\n",
       "      <td>28</td>\n",
       "    </tr>\n",
       "    <tr>\n",
       "      <th>4</th>\n",
       "      <td>580</td>\n",
       "      <td>58</td>\n",
       "    </tr>\n",
       "    <tr>\n",
       "      <th>...</th>\n",
       "      <td>...</td>\n",
       "      <td>...</td>\n",
       "    </tr>\n",
       "    <tr>\n",
       "      <th>160</th>\n",
       "      <td>291</td>\n",
       "      <td>31</td>\n",
       "    </tr>\n",
       "    <tr>\n",
       "      <th>161</th>\n",
       "      <td>338</td>\n",
       "      <td>30</td>\n",
       "    </tr>\n",
       "    <tr>\n",
       "      <th>162</th>\n",
       "      <td>213</td>\n",
       "      <td>26</td>\n",
       "    </tr>\n",
       "    <tr>\n",
       "      <th>163</th>\n",
       "      <td>351</td>\n",
       "      <td>27</td>\n",
       "    </tr>\n",
       "    <tr>\n",
       "      <th>164</th>\n",
       "      <td>443</td>\n",
       "      <td>34</td>\n",
       "    </tr>\n",
       "  </tbody>\n",
       "</table>\n",
       "<p>165 rows × 2 columns</p>\n",
       "</div>"
      ],
      "text/plain": [
       "     total_offense  points_scored\n",
       "0              288             34\n",
       "1              452             35\n",
       "2              471             31\n",
       "3              413             28\n",
       "4              580             58\n",
       "..             ...            ...\n",
       "160            291             31\n",
       "161            338             30\n",
       "162            213             26\n",
       "163            351             27\n",
       "164            443             34\n",
       "\n",
       "[165 rows x 2 columns]"
      ]
     },
     "execution_count": 5,
     "metadata": {},
     "output_type": "execute_result"
    }
   ],
   "source": [
    "#get rid of any duplicate rows ... we don't have any which means we did a good job while scraping\n",
    "df_binary = df_binary.dropna()\n",
    "df_binary"
   ]
  },
  {
   "cell_type": "code",
   "execution_count": 6,
   "id": "10759213",
   "metadata": {},
   "outputs": [
    {
     "data": {
      "image/png": "[encoded data removed]",
      "text/plain": [
       "<Figure size 432x288 with 1 Axes>"
      ]
     },
     "metadata": {
      "needs_background": "light"
     },
     "output_type": "display_data"
    }
   ],
   "source": [
    "plt.scatter(df_binary['total_offense'], df_binary['points_scored'])\n",
    "plt.show()"
   ]
  },
  {
   "cell_type": "markdown",
   "id": "a3d6500e",
   "metadata": {},
   "source": [
    "### Separate Data into Training and Testing Data"
   ]
  },
  {
   "cell_type": "code",
   "execution_count": 7,
   "id": "e40794f2",
   "metadata": {},
   "outputs": [
    {
     "name": "stdout",
     "output_type": "stream",
     "text": [
      "X: [[288]\n",
      " [452]\n",
      " [471]\n",
      " [413]\n",
      " [580]]\n",
      "Y: [[34]\n",
      " [35]\n",
      " [31]\n",
      " [28]\n",
      " [58]]\n"
     ]
    }
   ],
   "source": [
    "# Separating the data into independent and dependent variables\n",
    "# Converting each dataframe into a numpy array \n",
    "# we can do that because each dataframe contains only one column\n",
    "\n",
    "X = np.array(df_binary['total_offense']).reshape(-1,1)   # .reshape(-1, 1) shapes the array so there is only one column\n",
    "Y = np.array(df_binary['points_scored']).reshape(-1,1)\n",
    "print('X:', X[:5]) #printing first 5 values of X and Y\n",
    "print('Y:', Y[:5])"
   ]
  },
  {
   "cell_type": "code",
   "execution_count": 8,
   "id": "47ce11b6",
   "metadata": {},
   "outputs": [],
   "source": [
    "# This train_test_split function splits your data randomly (unbiased) into training and testing data\n",
    "# This is important bc a model needs data to \"learn\" (training data) and data to compare its predictions with (testing)\n",
    "# to see how well it has actually learned.\n",
    "# This example uses a test size of 20%, following the 80/20 train/test split rule (always have more training than testing)\n",
    "\n",
    "X_train, X_test, Y_train, Y_test = train_test_split(X, Y, test_size = 0.2)"
   ]
  },
  {
   "cell_type": "markdown",
   "id": "c727a40d",
   "metadata": {},
   "source": [
    "## Running Linear Regression and Plotting on Scatterplot"
   ]
  },
  {
   "cell_type": "code",
   "execution_count": 9,
   "id": "5857c0e8",
   "metadata": {},
   "outputs": [
    {
     "data": {
      "text/plain": [
       "LinearRegression()"
      ]
     },
     "execution_count": 9,
     "metadata": {},
     "output_type": "execute_result"
    }
   ],
   "source": [
    "# LinearRegression() actually creates our model\n",
    "regr = LinearRegression()\n",
    "\n",
    "# and \"fit\" the training data into the linear regression model\n",
    "regr.fit(X_train, Y_train)"
   ]
  },
  {
   "cell_type": "code",
   "execution_count": 10,
   "id": "9a800340",
   "metadata": {},
   "outputs": [
    {
     "data": {
      "text/plain": [
       "0.6123011281950157"
      ]
     },
     "execution_count": 10,
     "metadata": {},
     "output_type": "execute_result"
    }
   ],
   "source": [
    "#.score() shows how accurate our linear regression() test was when running through our testing data\n",
    "regr.score(X_test, Y_test)\n",
    "\n",
    "# we can see that our regression model ran at an accuracy of 71.8%. \n",
    "# This is a decent score but could probably be improved upon"
   ]
  },
  {
   "cell_type": "code",
   "execution_count": 11,
   "id": "84f57de1",
   "metadata": {},
   "outputs": [
    {
     "data": {
      "image/png": "[encoded data removed]",
      "text/plain": [
       "<Figure size 432x288 with 1 Axes>"
      ]
     },
     "metadata": {
      "needs_background": "light"
     },
     "output_type": "display_data"
    }
   ],
   "source": [
    "#lets first plot our predicted values in a scatter plot\n",
    "y_pred = regr.predict(X_test) # y_hat = ax + b\n",
    "plt.scatter(X_test, Y_test, color = 'b')\n",
    "plt.plot(X_test, y_pred, color = 'g')\n",
    "plt.show()\n",
    "\n",
    "#In this plot, we can see that the green line is our prediction (in the form y = ax + b)"
   ]
  },
  {
   "cell_type": "code",
   "execution_count": 12,
   "id": "9c3a4f8c",
   "metadata": {},
   "outputs": [
    {
     "name": "stdout",
     "output_type": "stream",
     "text": [
      "[-9.51761904]\n",
      "[[0.10665155]]\n"
     ]
    }
   ],
   "source": [
    "# Use the following functions to get the a and b in the y = ax + b formula\n",
    "print(regr.intercept_)\n",
    "print(regr.coef_)\n",
    "# y = 0.101x - 7.635"
   ]
  },
  {
   "cell_type": "markdown",
   "id": "ed23a06e",
   "metadata": {},
   "source": [
    "## Running Polynomial Regression and Plotting on Scatterplot"
   ]
  },
  {
   "cell_type": "code",
   "execution_count": 13,
   "id": "5e511347",
   "metadata": {},
   "outputs": [],
   "source": [
    "#we will now have to change our X training data to fit a quadratic regression\n",
    "poly_reg = PolynomialFeatures(degree = 2) # polynomial degrees; 2 means it is quadratic, 1 means linear\n",
    "\n",
    "# next we're going to use the .fit_transform() to scale the data and its parameters\n",
    "X_train_poly = poly_reg.fit_transform(X_train)\n",
    "X_test_poly = poly_reg.fit_transform(X_test)"
   ]
  },
  {
   "cell_type": "code",
   "execution_count": 14,
   "id": "8c53d855",
   "metadata": {},
   "outputs": [
    {
     "data": {
      "text/plain": [
       "LinearRegression()"
      ]
     },
     "execution_count": 14,
     "metadata": {},
     "output_type": "execute_result"
    }
   ],
   "source": [
    "#Now we can crate our polynomial regression model similar to before\n",
    "\n",
    "poly_regr = LinearRegression()\n",
    "poly_regr.fit(X_train_poly, Y_train)"
   ]
  },
  {
   "cell_type": "code",
   "execution_count": 15,
   "id": "85507750",
   "metadata": {},
   "outputs": [
    {
     "data": {
      "image/png": "[encoded data removed]",
      "text/plain": [
       "<Figure size 432x288 with 1 Axes>"
      ]
     },
     "metadata": {
      "needs_background": "light"
     },
     "output_type": "display_data"
    }
   ],
   "source": [
    "plt.clf()\n",
    "y_pred_poly = poly_regr.predict(X_test_poly)\n",
    "plt.scatter(X_test, Y_test, color = 'b')\n",
    "plt.plot(X_test, y_pred_poly, color = 'g')\n",
    "plt.show()"
   ]
  },
  {
   "cell_type": "code",
   "execution_count": 16,
   "id": "e047b426",
   "metadata": {},
   "outputs": [
    {
     "name": "stdout",
     "output_type": "stream",
     "text": [
      "0.5999815004453698\n",
      "[-2.57698253]\n",
      "[[0.00000000e+00 6.92470194e-02 4.66893804e-05]]\n"
     ]
    }
   ],
   "source": [
    "#we can use some of the same functions as before to fill in the a b and c values within y = ax^2 + bx + c function\n",
    "#as well as get our accuracy score\n",
    "print(poly_regr.score(X_test_poly, Y_test)) #model ran at accuracy of 70.8%\n",
    "print(poly_regr.intercept_)\n",
    "print(poly_regr.coef_) # y = ax^2 + bx + c\n",
    "\n",
    "#y = -0.0000017x^2 + 0.1024x - 7.8939"
   ]
  },
  {
   "cell_type": "markdown",
   "id": "1f83e6b6",
   "metadata": {},
   "source": [
    "Polynomial Model Takeaways\n",
    "* Our polynomial regression model is slightly less accurate than the linear, but not by much.\n",
    "* This may be different if there were more data.\n",
    "* For example, things could be different if we included more seasons worth of data or included all FBS teams instead of just Michigan."
   ]
  },
  {
   "cell_type": "markdown",
   "id": "f5a1d989",
   "metadata": {},
   "source": [
    "## Computing 3 Types of Errors\n",
    "\n",
    "Mean Absolute Error (MAE)\n",
    "* Measures the average magnitude of the errors in a set of predictions, without considring their direction\n",
    "\n",
    "Mean Squared Error (MSE)\n",
    "* Measures the average squared error between the predicted and actual values\n",
    "\n",
    "Root Mean Squared Error (RMSE)\n",
    "* Measures the square root of MSE\n",
    "* Typically the most favorite error metric to look at"
   ]
  },
  {
   "cell_type": "code",
   "execution_count": 17,
   "id": "e5a0a84c",
   "metadata": {},
   "outputs": [
    {
     "name": "stdout",
     "output_type": "stream",
     "text": [
      "MAE: 6.830363854222438\n",
      "MSE: 70.80257192753723\n",
      "RMSE: 8.414426417025538\n"
     ]
    }
   ],
   "source": [
    "# Linear Regression Model Error\n",
    "# for mse and rmse, squared = True (default) indicates MSE and squared = False indicates RMSE\n",
    "\n",
    "mae = mean_absolute_error(y_true = Y_test, y_pred = y_pred)\n",
    "print(\"MAE:\", mae)\n",
    "mse = mean_squared_error(y_true = Y_test, y_pred = y_pred)\n",
    "print(\"MSE:\", mse)\n",
    "rmse = mean_squared_error(y_true = Y_test, y_pred = y_pred, squared = False)\n",
    "print(\"RMSE:\", rmse)"
   ]
  },
  {
   "cell_type": "code",
   "execution_count": 18,
   "id": "ac4febc1",
   "metadata": {},
   "outputs": [
    {
     "name": "stdout",
     "output_type": "stream",
     "text": [
      "MAE: 6.92780733551945\n",
      "MSE: 73.05241424924392\n",
      "RMSE: 8.54707050686046\n"
     ]
    }
   ],
   "source": [
    "# Polynomial Regression Model Error\n",
    "\n",
    "mae_poly = mean_absolute_error(y_true = Y_test, y_pred = y_pred_poly)\n",
    "print(\"MAE:\", mae_poly)\n",
    "mse_poly = mean_squared_error(y_true = Y_test, y_pred = y_pred_poly)\n",
    "print(\"MSE:\", mse_poly)\n",
    "rmse_poly = mean_squared_error(y_true = Y_test, y_pred = y_pred_poly, squared = False)\n",
    "print(\"RMSE:\", rmse_poly)"
   ]
  },
  {
   "cell_type": "markdown",
   "id": "b99bab2f",
   "metadata": {},
   "source": [
    "Takeaway: the RMSE of both models is similar (around 8.2) meaning our models were not optimized and didn't badly fit the data given\n",
    "\n",
    "Overfitting is when the model does not make accurate predictions on data bc if the model gets trained on so much data, it learns to model only after that type of data and its noise and inaccuracies leading to high variance when inputted with testing data.\n",
    "\n",
    "Overfitting can be reduced by increasing training data, reducing model complexity, early stopping during the training phase, and Ridge Regularization and Lasso Regularization."
   ]
  },
  {
   "cell_type": "code",
   "execution_count": null,
   "id": "0058f278",
   "metadata": {},
   "outputs": [],
   "source": []
  }
 ],
 "metadata": {
  "kernelspec": {
   "display_name": "Python 3 (ipykernel)",
   "language": "python",
   "name": "python3"
  },
  "language_info": {
   "codemirror_mode": {
    "name": "ipython",
    "version": 3
   },
   "file_extension": ".py",
   "mimetype": "text/x-python",
   "name": "python",
   "nbconvert_exporter": "python",
   "pygments_lexer": "ipython3",
   "version": "3.9.7"
  }
 },
 "nbformat": 4,
 "nbformat_minor": 5
}
