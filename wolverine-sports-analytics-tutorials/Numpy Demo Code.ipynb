{
 "cells": [
  {
   "cell_type": "markdown",
   "id": "4d41c122",
   "metadata": {},
   "source": [
    "# Numpy Demo Code"
   ]
  },
  {
   "cell_type": "markdown",
   "id": "ecd10441",
   "metadata": {},
   "source": [
    "### Imports\n",
    "Don't forget to do pip install numpy in your terminal first (if it doesn't work try conda install numpy)"
   ]
  },
  {
   "cell_type": "code",
   "execution_count": 1,
   "id": "24f51b4d",
   "metadata": {},
   "outputs": [],
   "source": [
    "import numpy as np"
   ]
  },
  {
   "cell_type": "markdown",
   "id": "de77143b",
   "metadata": {},
   "source": [
    "## Creating Numpy Arrays"
   ]
  },
  {
   "cell_type": "code",
   "execution_count": 2,
   "id": "c648bf45",
   "metadata": {},
   "outputs": [
    {
     "name": "stdout",
     "output_type": "stream",
     "text": [
      "[1 2 3 4 5 6]\n",
      "[[1.1 2.2 3.3]\n",
      " [4.4 5.5 6.6]]\n"
     ]
    }
   ],
   "source": [
    "# creating NumPy array from python list using np.array() function\n",
    "a = np.array([1, 2, 3, 4, 5, 6])\n",
    "print(a)\n",
    "\n",
    "# these can be multiple dimensions -- just use nested lists!\n",
    "b = np.array([[1.1, 2.2, 3.3], [4.4, 5.5, 6.6]])\n",
    "print(b)"
   ]
  },
  {
   "cell_type": "code",
   "execution_count": 3,
   "id": "72a664c0",
   "metadata": {},
   "outputs": [
    {
     "name": "stdout",
     "output_type": "stream",
     "text": [
      "[0 1 2 3 4]\n",
      "[2 3 4]\n",
      "[2.  2.1 2.2 2.3 2.4 2.5 2.6 2.7 2.8 2.9 3.  3.1 3.2 3.3 3.4 3.5 3.6 3.7\n",
      " 3.8 3.9 4.  4.1 4.2 4.3 4.4 4.5 4.6 4.7 4.8 4.9]\n",
      "[2. 3. 4. 5.]\n",
      "[2.         2.06122449 2.12244898 2.18367347 2.24489796 2.30612245\n",
      " 2.36734694 2.42857143 2.48979592 2.55102041 2.6122449  2.67346939\n",
      " 2.73469388 2.79591837 2.85714286 2.91836735 2.97959184 3.04081633\n",
      " 3.10204082 3.16326531 3.2244898  3.28571429 3.34693878 3.40816327\n",
      " 3.46938776 3.53061224 3.59183673 3.65306122 3.71428571 3.7755102\n",
      " 3.83673469 3.89795918 3.95918367 4.02040816 4.08163265 4.14285714\n",
      " 4.20408163 4.26530612 4.32653061 4.3877551  4.44897959 4.51020408\n",
      " 4.57142857 4.63265306 4.69387755 4.75510204 4.81632653 4.87755102\n",
      " 4.93877551 5.        ]\n"
     ]
    }
   ],
   "source": [
    "#Instantiate a 1D array containing every value in a specified range\n",
    "#Here, array c contains every whole number up to 5\n",
    "c = np.arange(5)\n",
    "print(c)\n",
    "\n",
    "# doesnt have to start at 0\n",
    "d = np.arange(2,5)\n",
    "print(d)\n",
    "\n",
    "#(start value, end value, step size)\n",
    "e = np.arange(2, 5, 0.1)\n",
    "print(e)\n",
    "\n",
    "#if we want to use decimals but don't know the step size, it wont work\n",
    "f = np.arange(2, 5.1)\n",
    "print(f)\n",
    "\n",
    "#using linspace(), (start value, end value, number of elements) data is evenly seperated\n",
    "g = np.linspace(2, 5, 50)\n",
    "print(g)"
   ]
  },
  {
   "cell_type": "code",
   "execution_count": 4,
   "id": "f05efad0",
   "metadata": {},
   "outputs": [
    {
     "name": "stdout",
     "output_type": "stream",
     "text": [
      "[[1.1 2.2 3.3]\n",
      " [4.4 5.5 6.6]]\n"
     ]
    }
   ],
   "source": [
    "#Instantiate an empty array with a specified shape, in this case (2,3)\n",
    "#The array is not truly \"empty\" - it just contains uninitialized values!\n",
    "h = np.empty((2,3))\n",
    "print(h)"
   ]
  },
  {
   "cell_type": "code",
   "execution_count": 5,
   "id": "a511a063",
   "metadata": {},
   "outputs": [
    {
     "name": "stdout",
     "output_type": "stream",
     "text": [
      "[[7 7 7]\n",
      " [7 7 7]]\n",
      "[[0. 0. 0.]\n",
      " [0. 0. 0.]]\n",
      "[[1. 1. 1.]\n",
      " [1. 1. 1.]]\n"
     ]
    }
   ],
   "source": [
    "#Instantiate an array with a specified shape, and fill every cell with a specified value\n",
    "#Here, array e is a 2x3 array filled with 7s\n",
    "i = np.full((2,3), 7)\n",
    "print(i)\n",
    "\n",
    "#Similar to np.full, np.zeros creates an array filled with 0s and np.ones creates an array filled with 1s\n",
    "j = np.zeros((2,3))\n",
    "print(j)\n",
    "k = np.ones((2,3))\n",
    "print(k)"
   ]
  },
  {
   "cell_type": "code",
   "execution_count": 6,
   "id": "da643020",
   "metadata": {},
   "outputs": [
    {
     "data": {
      "text/plain": [
       "[dtype('int32'), dtype('float64')]"
      ]
     },
     "execution_count": 6,
     "metadata": {},
     "output_type": "execute_result"
    }
   ],
   "source": [
    "#get data type of each array\n",
    "[a.dtype,\n",
    "b.dtype]"
   ]
  },
  {
   "cell_type": "code",
   "execution_count": 7,
   "id": "fc07e7dd",
   "metadata": {},
   "outputs": [
    {
     "data": {
      "text/plain": [
       "[(6,), (2, 3)]"
      ]
     },
     "execution_count": 7,
     "metadata": {},
     "output_type": "execute_result"
    }
   ],
   "source": [
    "# NumPy arrays don't need to be 1-dimensional. They can be 2-dimensional (like a matrix), \n",
    "# or even more. Each dimension is called an axis and the shape is a tuple of sizes along each axis.\n",
    "# a only has 1 axis. b has 2 axes.\n",
    "[a.shape, b.shape]"
   ]
  },
  {
   "cell_type": "markdown",
   "id": "56dadfdc",
   "metadata": {},
   "source": [
    "## Slicing and Indexing Arrays"
   ]
  },
  {
   "cell_type": "code",
   "execution_count": 8,
   "id": "9b68d47a",
   "metadata": {},
   "outputs": [
    {
     "name": "stdout",
     "output_type": "stream",
     "text": [
      "1\n",
      "[1 2]\n",
      "[2 4 6]\n"
     ]
    }
   ],
   "source": [
    "# we can index like a python list... gives us data at index 0\n",
    "print(a[0])\n",
    "\n",
    "#we can also get sub-arrays ... gives us data from index 2 inclusive to the end\n",
    "print(a[:2]) #type is still an array\n",
    "\n",
    "# You can pass a list (or a NumPy array) as the index to get data from multiple indices.\n",
    "# gives us data from index 2, 3,and 5\n",
    "print(a[[1,3,5]]) #creates new array"
   ]
  },
  {
   "cell_type": "code",
   "execution_count": 9,
   "id": "8b198e2d",
   "metadata": {},
   "outputs": [
    {
     "name": "stdout",
     "output_type": "stream",
     "text": [
      "[1.1 2.2 3.3]\n",
      "[1.1 2.2 3.3]\n",
      "[2.2 5.5]\n",
      "[2.2, 2.2]\n"
     ]
    }
   ],
   "source": [
    "# index 0 of axis 0 gives us the first row: [1.1, 2.2, 3.3].\n",
    "print(b[0])\n",
    "print(b[0, :]) #prints same thing (0 of axis 0 gives first row, : of axis 1 gives every value)\n",
    "\n",
    "print(b[:, 1]) # : in axis 0 gives all rows, 1 in axis 1 gives second value. Together gives second value of each row\n",
    "\n",
    "print([b[0,1], b[0][1]]) # ERROR IN DEMO VIDEO FIXED HERE\n",
    "# b[0,1] and b[0][1] give same value as each other because 0 in axis 0 gives first row, 1 in axis 1 gives second value\n",
    "# meanwhile, second value in first list within array b also refers to 2.2"
   ]
  },
  {
   "cell_type": "markdown",
   "id": "42aed566",
   "metadata": {},
   "source": [
    "## Mathematical Calculations using 1 or 2 Arrays"
   ]
  },
  {
   "cell_type": "code",
   "execution_count": 10,
   "id": "bd09cffd",
   "metadata": {},
   "outputs": [],
   "source": [
    "np.random.seed(1) #initializes a random number generator\n",
    "\n",
    "#let's create two 3x3 matricies filled with random integers in the range [0,10)\n",
    "x = np.random.randint(0, 10, size = (3,3))\n",
    "y = np.random.randint(0, 10, size = (3,3))"
   ]
  },
  {
   "cell_type": "code",
   "execution_count": 11,
   "id": "705dcd85",
   "metadata": {},
   "outputs": [
    {
     "data": {
      "text/plain": [
       "array([[5, 8, 9],\n",
       "       [5, 0, 0],\n",
       "       [1, 7, 6]])"
      ]
     },
     "execution_count": 11,
     "metadata": {},
     "output_type": "execute_result"
    }
   ],
   "source": [
    "x"
   ]
  },
  {
   "cell_type": "code",
   "execution_count": 12,
   "id": "96b4e495",
   "metadata": {},
   "outputs": [
    {
     "data": {
      "text/plain": [
       "array([[9, 2, 4],\n",
       "       [5, 2, 4],\n",
       "       [2, 4, 7]])"
      ]
     },
     "execution_count": 12,
     "metadata": {},
     "output_type": "execute_result"
    }
   ],
   "source": [
    "y"
   ]
  },
  {
   "cell_type": "code",
   "execution_count": 13,
   "id": "ac263c38",
   "metadata": {},
   "outputs": [
    {
     "data": {
      "text/plain": [
       "array([[14, 10, 13],\n",
       "       [10,  2,  4],\n",
       "       [ 3, 11, 13]])"
      ]
     },
     "execution_count": 13,
     "metadata": {},
     "output_type": "execute_result"
    }
   ],
   "source": [
    "x + y"
   ]
  },
  {
   "cell_type": "code",
   "execution_count": 14,
   "id": "f7ca707a",
   "metadata": {},
   "outputs": [
    {
     "data": {
      "text/plain": [
       "array([[-4,  6,  5],\n",
       "       [ 0, -2, -4],\n",
       "       [-1,  3, -1]])"
      ]
     },
     "execution_count": 14,
     "metadata": {},
     "output_type": "execute_result"
    }
   ],
   "source": [
    "x - y"
   ]
  },
  {
   "cell_type": "code",
   "execution_count": 15,
   "id": "926620e2",
   "metadata": {},
   "outputs": [
    {
     "data": {
      "text/plain": [
       "array([[45, 16, 36],\n",
       "       [25,  0,  0],\n",
       "       [ 2, 28, 42]])"
      ]
     },
     "execution_count": 15,
     "metadata": {},
     "output_type": "execute_result"
    }
   ],
   "source": [
    "x * y"
   ]
  },
  {
   "cell_type": "code",
   "execution_count": 16,
   "id": "4b320140",
   "metadata": {},
   "outputs": [
    {
     "data": {
      "text/plain": [
       "array([[0.55555556, 4.        , 2.25      ],\n",
       "       [1.        , 0.        , 0.        ],\n",
       "       [0.5       , 1.75      , 0.85714286]])"
      ]
     },
     "execution_count": 16,
     "metadata": {},
     "output_type": "execute_result"
    }
   ],
   "source": [
    "x / y # division"
   ]
  },
  {
   "cell_type": "code",
   "execution_count": 17,
   "id": "05465778",
   "metadata": {},
   "outputs": [
    {
     "data": {
      "text/plain": [
       "array([[0, 4, 2],\n",
       "       [1, 0, 0],\n",
       "       [0, 1, 0]], dtype=int32)"
      ]
     },
     "execution_count": 17,
     "metadata": {},
     "output_type": "execute_result"
    }
   ],
   "source": [
    "x // y # integer division (works like floor)"
   ]
  },
  {
   "cell_type": "code",
   "execution_count": 18,
   "id": "a07505ca",
   "metadata": {},
   "outputs": [
    {
     "data": {
      "text/plain": [
       "array([[1953125,      64,    6561],\n",
       "       [   3125,       0,       0],\n",
       "       [      1,    2401,  279936]], dtype=int32)"
      ]
     },
     "execution_count": 18,
     "metadata": {},
     "output_type": "execute_result"
    }
   ],
   "source": [
    "x ** y # raising to the power to"
   ]
  },
  {
   "cell_type": "code",
   "execution_count": 19,
   "id": "de03d2b1",
   "metadata": {},
   "outputs": [
    {
     "name": "stdout",
     "output_type": "stream",
     "text": [
      "41\n",
      "4.555555555555555\n",
      "3.235604395235786\n"
     ]
    }
   ],
   "source": [
    "print(np.sum(x)) #sum\n",
    "\n",
    "print(np.mean(x)) #mean\n",
    "\n",
    "print(np.std(x)) #standard deviation"
   ]
  },
  {
   "cell_type": "code",
   "execution_count": 20,
   "id": "04a65975",
   "metadata": {},
   "outputs": [
    {
     "name": "stdout",
     "output_type": "stream",
     "text": [
      "[22  5 14]\n",
      "[11 15 15]\n",
      "41\n"
     ]
    }
   ],
   "source": [
    "# We can even only sum across a single axis \n",
    "# (e.g. if we want the sum of each row, we take the sum across the columns (axis 1))\n",
    "print(np.sum(x, axis = 1))\n",
    "# will sum across the rows which will output an array of the sums of the columns.\n",
    "print(np.sum(x, axis = 0))\n",
    "\n",
    "# same as normal sum because we divide across both axis looks like summing one of the first two results\n",
    "print(np.sum(x, axis = (0,1)))"
   ]
  },
  {
   "cell_type": "markdown",
   "id": "0efde3f4",
   "metadata": {},
   "source": [
    "## Other Numpy Features\n",
    "This section includes transpose, magnitude, dot product, matrix product, and max/min of an array"
   ]
  },
  {
   "cell_type": "code",
   "execution_count": 21,
   "id": "06b34c7c",
   "metadata": {},
   "outputs": [
    {
     "name": "stdout",
     "output_type": "stream",
     "text": [
      "[[5 5 1]\n",
      " [8 0 7]\n",
      " [9 0 6]]\n",
      "13.038404810405298\n"
     ]
    }
   ],
   "source": [
    "#we can get the transpose of a matrix (columns to rows, rows to columns)\n",
    "print(x.T)\n",
    "\n",
    "# get the magnitude (L2 norm) of a vector\n",
    "print(np.linalg.norm(x[0]))"
   ]
  },
  {
   "cell_type": "code",
   "execution_count": 22,
   "id": "935fde09",
   "metadata": {},
   "outputs": [
    {
     "name": "stdout",
     "output_type": "stream",
     "text": [
      "25\n",
      "[[103  62 115]\n",
      " [ 45  10  20]\n",
      " [ 56  40  74]]\n"
     ]
    }
   ],
   "source": [
    "# get the dot product of two vectors\n",
    "print(np.dot(x[0], x[1]))\n",
    "\n",
    "# multiply two matrices\n",
    "# Need same number of cols for first matrix and rows for second matrix\n",
    "# Order matters!\n",
    "print(np.matmul(x, y))"
   ]
  },
  {
   "cell_type": "code",
   "execution_count": 23,
   "id": "42b31d55",
   "metadata": {},
   "outputs": [
    {
     "name": "stdout",
     "output_type": "stream",
     "text": [
      "4\n",
      "[0 1 0]\n",
      "0\n",
      "[5 0 1]\n"
     ]
    }
   ],
   "source": [
    "# index of minimum value in matrix\n",
    "print(np.argmin(x))\n",
    "#index of minimum value in each row\n",
    "print(np.argmin(x, axis = 1))\n",
    "\n",
    "# minimum value in matrix\n",
    "print(np.min(x))\n",
    "# minimum value in each row\n",
    "print(np.min(x, axis = 1))"
   ]
  },
  {
   "cell_type": "markdown",
   "id": "5aeb4040",
   "metadata": {},
   "source": [
    "## Adjusting Array Shape and Dimensionality"
   ]
  },
  {
   "cell_type": "code",
   "execution_count": 24,
   "id": "60bce6ce",
   "metadata": {},
   "outputs": [
    {
     "name": "stdout",
     "output_type": "stream",
     "text": [
      "[0 1 2 3 4 5]\n",
      "[[0 1 2]\n",
      " [3 4 5]]\n",
      "[[0 1]\n",
      " [2 3]\n",
      " [4 5]]\n"
     ]
    }
   ],
   "source": [
    "# Sometimes our arrays are not in the format we want so we need to restructure them.\n",
    "# We can use np.reshape() to redistribute the existing array values into a different shape. \n",
    "# The new shape must contain the same number of values as the original shape, \n",
    "# but it can have a different number of dimensions.\n",
    "y = np.arange(6)\n",
    "print(y)\n",
    "\n",
    "print(np.reshape(y, (2,3))) #Change the shape of y from (6,) to (2,3)\n",
    "\n",
    "#If you list the size of one dimension as -1, NumPy will determine the appropriate value for you!\n",
    "#Here, the new shape will be (1,6)\n",
    "print(np.reshape(y, (-1, 2)))"
   ]
  },
  {
   "cell_type": "code",
   "execution_count": null,
   "id": "fccb2da6",
   "metadata": {},
   "outputs": [],
   "source": []
  }
 ],
 "metadata": {
  "kernelspec": {
   "display_name": "Python 3 (ipykernel)",
   "language": "python",
   "name": "python3"
  },
  "language_info": {
   "codemirror_mode": {
    "name": "ipython",
    "version": 3
   },
   "file_extension": ".py",
   "mimetype": "text/x-python",
   "name": "python",
   "nbconvert_exporter": "python",
   "pygments_lexer": "ipython3",
   "version": "3.9.7"
  }
 },
 "nbformat": 4,
 "nbformat_minor": 5
}
